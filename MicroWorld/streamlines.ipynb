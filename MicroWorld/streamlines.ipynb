{
 "cells": [
  {
   "cell_type": "markdown",
   "metadata": {},
   "source": []
  },
  {
   "cell_type": "code",
   "execution_count": 1,
   "id": "ad5c3657",
   "metadata": {},
   "outputs": [
    {
     "name": "stdout",
     "output_type": "stream",
     "text": [
      "first:  (10, 10, 10)\n",
      "sceond:  (10, 10, 10, 3)\n",
      "3000\n"
     ]
    },
    {
     "data": {
      "application/vnd.jupyter.widget-view+json": {
       "model_id": "1aadb7cd884643fc83985e40151aa40f",
       "version_major": 2,
       "version_minor": 0
      },
      "text/plain": [
       "Output()"
      ]
     },
     "metadata": {},
     "output_type": "display_data"
    },
    {
     "name": "stdout",
     "output_type": "stream",
     "text": [
      "here (10, 10, 10)\n"
     ]
    }
   ],
   "source": [
    "import k3d\n",
    "import numpy as np\n",
    "from k3d.colormaps import matplotlib_color_maps\n",
    "from k3d.helpers import map_colors\n",
    "from numpy.linalg import norm\n",
    "r0 = np.array([0, 0, 0])\n",
    "f = np.array([0, 1, 0])\n",
    "\n",
    "def stokeslet(f, r0, mX, mY, mZ):\n",
    "     \n",
    "    Id = np.array([[1, 0, 0], [0, 1, 0], [0, 0, 1]])\n",
    "    \n",
    "    r = np.array([mX - r0[0], mY - r0[1], mZ - r0[2]])\n",
    "\n",
    "    Idf = np.dot(Id, f)\n",
    "\n",
    "    rTf = (r * f[:, np.newaxis, np.newaxis, np.newaxis]).sum(axis=0)\n",
    "\n",
    "    rrTf = (r * rTf[np.newaxis,])\n",
    "\n",
    "    modr = np.sqrt(r[0]**2 + r[1]**2 + r[2]**2)\n",
    "\n",
    "    u, v, w = Idf[:, np.newaxis, np.newaxis, np.newaxis] / modr + rrTf / modr**3. \n",
    "    \n",
    "    return [u, v, w]\n",
    "\n",
    "\n",
    "a = 5\n",
    "b = 10\n",
    "xx = np.linspace(-a, a, b)\n",
    "yy = np.linspace(-a, a, b)\n",
    "zz = np.linspace(-a, a, b)\n",
    "\n",
    "xx, yy, zz = np.meshgrid(xx, yy, zz)\n",
    "\n",
    "u, v, w = stokeslet(f, r0, xx, yy, zz)\n",
    "\n",
    "print(\"first: \", u.shape)\n",
    "\n",
    "\n",
    "print(\"sceond: \", np.array([v,u,w]).T.shape)\n",
    "\n",
    "vectors = np.array([v,u,w]).T.astype(np.float32)\n",
    "\n",
    "print(vectors.reshape(-1, 3).size)\n",
    "\n",
    "norms = np.apply_along_axis(norm, 1, vectors.reshape(-1, 3))\n",
    "\n",
    "plt_vector_field = k3d.vector_field(vectors,\n",
    "                                    head_size=1.5,\n",
    "                                    scale=2,\n",
    "                                    #bounds=[10**(-1), 10**(1), 10**(-1), 10**(1), 10**(-1), 10**(1)] coś tu ze skalą zdecydowanie nie działa\n",
    "                                    )\n",
    "\n",
    "colors = map_colors(norms, matplotlib_color_maps.Inferno).astype(np.uint32)\n",
    "plt_vector_field.colors = np.repeat(colors, 2)\n",
    "\n",
    "plot = k3d.plot()\n",
    "plot += plt_vector_field\n",
    "\n",
    "plot.display()\n",
    "\n",
    "Z = np.sqrt(u**2+v**2+w**2)\n",
    "lines = np.array([ u, v, w])\n",
    "print('here', u.shape)\n",
    "np.savez('attempt_3d_1', Z)\n",
    "np.savez('attempt_3d_3', lines)"
   ]
  },
  {
   "cell_type": "code",
   "execution_count": 8,
   "metadata": {},
   "outputs": [
    {
     "name": "stdout",
     "output_type": "stream",
     "text": [
      "[[-3.896836889856024 -3.8905134446503986 0.0]\n",
      " [-3.893672335304027 -3.8810273713006676 0.0]\n",
      " [-3.8905062459404864 -3.8715418101185253 0.0]\n",
      " ...\n",
      " [3.897752126481204 3.8933563498215347 0.0]\n",
      " [3.9009147244680347 3.9028430760089923 0.0]\n",
      " [None None None]]\n"
     ]
    }
   ],
   "source": [
    "import k3d\n",
    "import numpy as np\n",
    "from k3d import matplotlib_color_maps\n",
    "\n",
    "data = np.load('/Users/gabrielaniechwiadowicz/Documents/GitHub/MicroWorld/Obiektowo/output.npz', allow_pickle=True)\n",
    "#data = np.load('/Users/gabrielaniechwiadowicz/FUW/Stokeslets/Plots notebooks/output_22.npz', allow_pickle=True)\n",
    "data.files\n",
    "lines = data['arr_0']\n",
    "\n",
    "print(data['arr_0'])\n",
    "\n",
    "\n",
    "\n",
    "\n"
   ]
  },
  {
   "cell_type": "code",
   "execution_count": 10,
   "metadata": {},
   "outputs": [
    {
     "data": {
      "application/vnd.jupyter.widget-view+json": {
       "model_id": "e6dc738a13434a9e81e1c7df817f229b",
       "version_major": 2,
       "version_minor": 0
      },
      "text/plain": [
       "Output()"
      ]
     },
     "metadata": {},
     "output_type": "display_data"
    }
   ],
   "source": [
    "plt_streamlines = k3d.line(lines,\n",
    "                           width=0.01,\n",
    "                           )\n",
    "\n",
    "\"\"\"plt_mesh = k3d.mesh(vertices, indices,\n",
    "                    opacity=0.25,\n",
    "                    wireframe=True,\n",
    "                    color=0x0002)\"\"\"\n",
    "\n",
    "plot = k3d.plot(grid_visible=True)\n",
    "plot += plt_streamlines\n",
    "#plot += plt_mesh\n",
    "plot.display()\n",
    "\n",
    "plot.camera = [0.0705, 0.0411, 0.0538,\n",
    "               0.0511, 0.0391, 0.0493,\n",
    "               -0.0798, 0.9872, 0.1265]"
   ]
  },
  {
   "cell_type": "code",
   "execution_count": 3,
   "metadata": {},
   "outputs": [
    {
     "name": "stdout",
     "output_type": "stream",
     "text": [
      "[[0.0504883  0.0279593  0.0506036 ]\n",
      " [0.05048523 0.02803267 0.05059951]\n",
      " [0.05047622 0.02810528 0.0505916 ]\n",
      " ...\n",
      " [0.05114238 0.02810335 0.05400866]\n",
      " [0.05111146 0.02816993 0.05401351]\n",
      " [       nan        nan        nan]]\n"
     ]
    }
   ],
   "source": [
    "\n",
    "data2 = np.load('/Users/gabrielaniechwiadowicz/downloads/streamlines_data.npz', allow_pickle=True)\n",
    "data2.files\n",
    "lines2 = data2['lines'] \n",
    "print(lines2)\n",
    "file = '//Users/gabrielaniechwiadowicz/Documents/GitHub/MicroWorld/Obiektowo/output.npz'\n",
    "with open(file, 'w') as f:\n",
    "    for i in lines2:\n",
    "        print(i, file=f)\n",
    "#well u mnie jest problem z wymiarem tego"
   ]
  },
  {
   "cell_type": "code",
   "execution_count": null,
   "metadata": {},
   "outputs": [],
   "source": []
  }
 ],
 "metadata": {
  "kernelspec": {
   "display_name": "Python 3 (ipykernel)",
   "language": "python",
   "name": "python3"
  },
  "language_info": {
   "codemirror_mode": {
    "name": "ipython",
    "version": 3
   },
   "file_extension": ".py",
   "mimetype": "text/x-python",
   "name": "python",
   "nbconvert_exporter": "python",
   "pygments_lexer": "ipython3",
   "version": "3.10.14"
  }
 },
 "nbformat": 4,
 "nbformat_minor": 5
}
