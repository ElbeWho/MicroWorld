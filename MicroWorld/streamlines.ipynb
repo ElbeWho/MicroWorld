{
 "cells": [
  {
   "cell_type": "markdown",
   "metadata": {},
   "source": []
  },
  {
   "cell_type": "code",
   "execution_count": 1,
   "id": "ad5c3657",
   "metadata": {},
   "outputs": [],
   "source": [
    "import k3d\n",
    "import numpy as np\n",
    "from k3d.colormaps import matplotlib_color_maps\n",
    "from k3d.helpers import map_colors\n",
    "from numpy.linalg import norm\n",
    "r0 = np.array([0, 0, 0])\n",
    "f = np.array([0, 1, 0])"
   ]
  },
  {
   "cell_type": "code",
   "execution_count": 3,
   "metadata": {},
   "outputs": [
    {
     "name": "stdout",
     "output_type": "stream",
     "text": [
      "[[-3.896836889856024 -3.8905134446503986 0.0]\n",
      " [-3.893672335304027 -3.8810273713006676 0.0]\n",
      " [-3.8905062459404864 -3.8715418101185253 0.0]\n",
      " ...\n",
      " [3.897752126481204 3.8933563498215347 0.0]\n",
      " [3.9009147244680347 3.9028430760089923 0.0]\n",
      " [None None None]]\n"
     ]
    }
   ],
   "source": [
    "import k3d\n",
    "import numpy as np\n",
    "from k3d import matplotlib_color_maps\n",
    "\n",
    "data = np.load('/Users/gabrielaniechwiadowicz/Documents/GitHub/MicroWorld/MicroWorld/output.npz', allow_pickle=True)\n",
    "#data = np.load('/Users/gabrielaniechwiadowicz/FUW/Stokeslets/Plots notebooks/output_22.npz', allow_pickle=True)\n",
    "data.files\n",
    "lines = data['arr_0']\n",
    "print(data['arr_0'])"
   ]
  },
  {
   "cell_type": "code",
   "execution_count": 4,
   "metadata": {},
   "outputs": [
    {
     "name": "stderr",
     "output_type": "stream",
     "text": [
      "/Users/gabrielaniechwiadowicz/anaconda3/lib/python3.10/site-packages/traittypes/traittypes.py:97: UserWarning: Given trait value dtype \"object\" does not match required type \"float32\". A coerced copy has been created.\n",
      "  warnings.warn(\n"
     ]
    },
    {
     "data": {
      "application/vnd.jupyter.widget-view+json": {
       "model_id": "b921b30a3a8d4fa79482fb81836afe0a",
       "version_major": 2,
       "version_minor": 0
      },
      "text/plain": [
       "Output()"
      ]
     },
     "metadata": {},
     "output_type": "display_data"
    }
   ],
   "source": [
    "plt_streamlines = k3d.line(lines,\n",
    "                           width=0.01,\n",
    "                           )\n",
    "\n",
    "\"\"\"plt_mesh = k3d.mesh(vertices, indices,\n",
    "                    opacity=0.25,\n",
    "                    wireframe=True,\n",
    "                    color=0x0002)\"\"\"\n",
    "\n",
    "plot = k3d.plot(grid_visible=True)\n",
    "plot += plt_streamlines\n",
    "#plot += plt_mesh\n",
    "plot.display()\n",
    "\n",
    "plot.camera = [0.0705, 0.0411, 0.0538,\n",
    "               0.0511, 0.0391, 0.0493,\n",
    "               -0.0798, 0.9872, 0.1265]"
   ]
  },
  {
   "cell_type": "code",
   "execution_count": 5,
   "metadata": {},
   "outputs": [
    {
     "name": "stdout",
     "output_type": "stream",
     "text": [
      "[[0.0504883  0.0279593  0.0506036 ]\n",
      " [0.05048523 0.02803267 0.05059951]\n",
      " [0.05047622 0.02810528 0.0505916 ]\n",
      " ...\n",
      " [0.05114238 0.02810335 0.05400866]\n",
      " [0.05111146 0.02816993 0.05401351]\n",
      " [       nan        nan        nan]]\n"
     ]
    },
    {
     "ename": "FileNotFoundError",
     "evalue": "[Errno 2] No such file or directory: '//Users/gabrielaniechwiadowicz/Documents/GitHub/MicroWorld/Obiektowo/output.npz'",
     "output_type": "error",
     "traceback": [
      "\u001b[0;31m---------------------------------------------------------------------------\u001b[0m",
      "\u001b[0;31mFileNotFoundError\u001b[0m                         Traceback (most recent call last)",
      "Cell \u001b[0;32mIn[5], line 6\u001b[0m\n\u001b[1;32m      4\u001b[0m \u001b[38;5;28mprint\u001b[39m(lines2)\n\u001b[1;32m      5\u001b[0m file \u001b[38;5;241m=\u001b[39m \u001b[38;5;124m'\u001b[39m\u001b[38;5;124m//Users/gabrielaniechwiadowicz/Documents/GitHub/MicroWorld/Obiektowo/output.npz\u001b[39m\u001b[38;5;124m'\u001b[39m\n\u001b[0;32m----> 6\u001b[0m \u001b[38;5;28;01mwith\u001b[39;00m \u001b[38;5;28;43mopen\u001b[39;49m\u001b[43m(\u001b[49m\u001b[43mfile\u001b[49m\u001b[43m,\u001b[49m\u001b[43m \u001b[49m\u001b[38;5;124;43m'\u001b[39;49m\u001b[38;5;124;43mw\u001b[39;49m\u001b[38;5;124;43m'\u001b[39;49m\u001b[43m)\u001b[49m \u001b[38;5;28;01mas\u001b[39;00m f:\n\u001b[1;32m      7\u001b[0m     \u001b[38;5;28;01mfor\u001b[39;00m i \u001b[38;5;129;01min\u001b[39;00m lines2:\n\u001b[1;32m      8\u001b[0m         \u001b[38;5;28mprint\u001b[39m(i, file\u001b[38;5;241m=\u001b[39mf)\n",
      "File \u001b[0;32m~/anaconda3/lib/python3.10/site-packages/IPython/core/interactiveshell.py:324\u001b[0m, in \u001b[0;36m_modified_open\u001b[0;34m(file, *args, **kwargs)\u001b[0m\n\u001b[1;32m    317\u001b[0m \u001b[38;5;28;01mif\u001b[39;00m file \u001b[38;5;129;01min\u001b[39;00m {\u001b[38;5;241m0\u001b[39m, \u001b[38;5;241m1\u001b[39m, \u001b[38;5;241m2\u001b[39m}:\n\u001b[1;32m    318\u001b[0m     \u001b[38;5;28;01mraise\u001b[39;00m \u001b[38;5;167;01mValueError\u001b[39;00m(\n\u001b[1;32m    319\u001b[0m         \u001b[38;5;124mf\u001b[39m\u001b[38;5;124m\"\u001b[39m\u001b[38;5;124mIPython won\u001b[39m\u001b[38;5;124m'\u001b[39m\u001b[38;5;124mt let you open fd=\u001b[39m\u001b[38;5;132;01m{\u001b[39;00mfile\u001b[38;5;132;01m}\u001b[39;00m\u001b[38;5;124m by default \u001b[39m\u001b[38;5;124m\"\u001b[39m\n\u001b[1;32m    320\u001b[0m         \u001b[38;5;124m\"\u001b[39m\u001b[38;5;124mas it is likely to crash IPython. If you know what you are doing, \u001b[39m\u001b[38;5;124m\"\u001b[39m\n\u001b[1;32m    321\u001b[0m         \u001b[38;5;124m\"\u001b[39m\u001b[38;5;124myou can use builtins\u001b[39m\u001b[38;5;124m'\u001b[39m\u001b[38;5;124m open.\u001b[39m\u001b[38;5;124m\"\u001b[39m\n\u001b[1;32m    322\u001b[0m     )\n\u001b[0;32m--> 324\u001b[0m \u001b[38;5;28;01mreturn\u001b[39;00m \u001b[43mio_open\u001b[49m\u001b[43m(\u001b[49m\u001b[43mfile\u001b[49m\u001b[43m,\u001b[49m\u001b[43m \u001b[49m\u001b[38;5;241;43m*\u001b[39;49m\u001b[43margs\u001b[49m\u001b[43m,\u001b[49m\u001b[43m \u001b[49m\u001b[38;5;241;43m*\u001b[39;49m\u001b[38;5;241;43m*\u001b[39;49m\u001b[43mkwargs\u001b[49m\u001b[43m)\u001b[49m\n",
      "\u001b[0;31mFileNotFoundError\u001b[0m: [Errno 2] No such file or directory: '//Users/gabrielaniechwiadowicz/Documents/GitHub/MicroWorld/Obiektowo/output.npz'"
     ]
    }
   ],
   "source": [
    "\n",
    "data2 = np.load('/Users/gabrielaniechwiadowicz/downloads/streamlines_data.npz', allow_pickle=True)\n",
    "data2.files\n",
    "lines2 = data2['lines'] \n",
    "print(lines2)\n",
    "file = '//Users/gabrielaniechwiadowicz/Documents/GitHub/MicroWorld/Obiektowo/output.npz'\n",
    "with open(file, 'w') as f:\n",
    "    for i in lines2:\n",
    "        print(i, file=f)\n",
    "#well u mnie jest problem z wymiarem tego"
   ]
  },
  {
   "cell_type": "code",
   "execution_count": null,
   "metadata": {},
   "outputs": [],
   "source": []
  }
 ],
 "metadata": {
  "kernelspec": {
   "display_name": "Python 3 (ipykernel)",
   "language": "python",
   "name": "python3"
  },
  "language_info": {
   "codemirror_mode": {
    "name": "ipython",
    "version": 3
   },
   "file_extension": ".py",
   "mimetype": "text/x-python",
   "name": "python",
   "nbconvert_exporter": "python",
   "pygments_lexer": "ipython3",
   "version": "3.10.14"
  }
 },
 "nbformat": 4,
 "nbformat_minor": 5
}
