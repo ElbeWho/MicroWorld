{
 "cells": [
  {
   "cell_type": "code",
   "execution_count": 1,
   "metadata": {
    "id": "MMvmwnEQuw2H"
   },
   "outputs": [],
   "source": [
    "\n",
    "import numpy as np\n",
    "import matplotlib.pyplot as plt\n",
    "from scipy.integrate import ode\n",
    "from scipy.interpolate import RegularGridInterpolator as RGI\n",
    "import random\n",
    "\n",
    "integrmodel = 'vode' # 'lsoda', 'dopri5', 'dop853'\n",
    "max_step = 1000\n",
    "step_size = 0.01\n",
    "n_sphere = 10\n",
    "Rsphere = 0.10\n",
    "\n",
    "s, e, d = -4, 4, 0.05\n",
    "Rsphere2 = Rsphere ** 2\n",
    "\n",
    "X, Y, Z = np.mgrid[s:e:d, s:e:d, s:e:d]\n",
    "\n",
    "Ex = 0.*X\n",
    "Ey = 0.*Y\n",
    "Ez = 0.*Z"
   ]
  },
  {
   "cell_type": "code",
   "execution_count": 3,
   "metadata": {
    "colab": {
     "base_uri": "https://localhost:8080/"
    },
    "id": "zydpFO3HwOdv",
    "outputId": "18c6ec8e-09ba-44ef-ff77-013b8a341e8d"
   },
   "outputs": [
    {
     "name": "stdout",
     "output_type": "stream",
     "text": [
      "[[[[-4.   -4.   -4.   ... -4.   -4.   -4.  ]\n",
      "   [-4.   -4.   -4.   ... -4.   -4.   -4.  ]\n",
      "   [-4.   -4.   -4.   ... -4.   -4.   -4.  ]\n",
      "   ...\n",
      "   [-4.   -4.   -4.   ... -4.   -4.   -4.  ]\n",
      "   [-4.   -4.   -4.   ... -4.   -4.   -4.  ]\n",
      "   [-4.   -4.   -4.   ... -4.   -4.   -4.  ]]\n",
      "\n",
      "  [[-3.95 -3.95 -3.95 ... -3.95 -3.95 -3.95]\n",
      "   [-3.95 -3.95 -3.95 ... -3.95 -3.95 -3.95]\n",
      "   [-3.95 -3.95 -3.95 ... -3.95 -3.95 -3.95]\n",
      "   ...\n",
      "   [-3.95 -3.95 -3.95 ... -3.95 -3.95 -3.95]\n",
      "   [-3.95 -3.95 -3.95 ... -3.95 -3.95 -3.95]\n",
      "   [-3.95 -3.95 -3.95 ... -3.95 -3.95 -3.95]]\n",
      "\n",
      "  [[-3.9  -3.9  -3.9  ... -3.9  -3.9  -3.9 ]\n",
      "   [-3.9  -3.9  -3.9  ... -3.9  -3.9  -3.9 ]\n",
      "   [-3.9  -3.9  -3.9  ... -3.9  -3.9  -3.9 ]\n",
      "   ...\n",
      "   [-3.9  -3.9  -3.9  ... -3.9  -3.9  -3.9 ]\n",
      "   [-3.9  -3.9  -3.9  ... -3.9  -3.9  -3.9 ]\n",
      "   [-3.9  -3.9  -3.9  ... -3.9  -3.9  -3.9 ]]\n",
      "\n",
      "  ...\n",
      "\n",
      "  [[ 3.85  3.85  3.85 ...  3.85  3.85  3.85]\n",
      "   [ 3.85  3.85  3.85 ...  3.85  3.85  3.85]\n",
      "   [ 3.85  3.85  3.85 ...  3.85  3.85  3.85]\n",
      "   ...\n",
      "   [ 3.85  3.85  3.85 ...  3.85  3.85  3.85]\n",
      "   [ 3.85  3.85  3.85 ...  3.85  3.85  3.85]\n",
      "   [ 3.85  3.85  3.85 ...  3.85  3.85  3.85]]\n",
      "\n",
      "  [[ 3.9   3.9   3.9  ...  3.9   3.9   3.9 ]\n",
      "   [ 3.9   3.9   3.9  ...  3.9   3.9   3.9 ]\n",
      "   [ 3.9   3.9   3.9  ...  3.9   3.9   3.9 ]\n",
      "   ...\n",
      "   [ 3.9   3.9   3.9  ...  3.9   3.9   3.9 ]\n",
      "   [ 3.9   3.9   3.9  ...  3.9   3.9   3.9 ]\n",
      "   [ 3.9   3.9   3.9  ...  3.9   3.9   3.9 ]]\n",
      "\n",
      "  [[ 3.95  3.95  3.95 ...  3.95  3.95  3.95]\n",
      "   [ 3.95  3.95  3.95 ...  3.95  3.95  3.95]\n",
      "   [ 3.95  3.95  3.95 ...  3.95  3.95  3.95]\n",
      "   ...\n",
      "   [ 3.95  3.95  3.95 ...  3.95  3.95  3.95]\n",
      "   [ 3.95  3.95  3.95 ...  3.95  3.95  3.95]\n",
      "   [ 3.95  3.95  3.95 ...  3.95  3.95  3.95]]]\n",
      "\n",
      "\n",
      " [[[-4.   -4.   -4.   ... -4.   -4.   -4.  ]\n",
      "   [-3.95 -3.95 -3.95 ... -3.95 -3.95 -3.95]\n",
      "   [-3.9  -3.9  -3.9  ... -3.9  -3.9  -3.9 ]\n",
      "   ...\n",
      "   [ 3.85  3.85  3.85 ...  3.85  3.85  3.85]\n",
      "   [ 3.9   3.9   3.9  ...  3.9   3.9   3.9 ]\n",
      "   [ 3.95  3.95  3.95 ...  3.95  3.95  3.95]]\n",
      "\n",
      "  [[-4.   -4.   -4.   ... -4.   -4.   -4.  ]\n",
      "   [-3.95 -3.95 -3.95 ... -3.95 -3.95 -3.95]\n",
      "   [-3.9  -3.9  -3.9  ... -3.9  -3.9  -3.9 ]\n",
      "   ...\n",
      "   [ 3.85  3.85  3.85 ...  3.85  3.85  3.85]\n",
      "   [ 3.9   3.9   3.9  ...  3.9   3.9   3.9 ]\n",
      "   [ 3.95  3.95  3.95 ...  3.95  3.95  3.95]]\n",
      "\n",
      "  [[-4.   -4.   -4.   ... -4.   -4.   -4.  ]\n",
      "   [-3.95 -3.95 -3.95 ... -3.95 -3.95 -3.95]\n",
      "   [-3.9  -3.9  -3.9  ... -3.9  -3.9  -3.9 ]\n",
      "   ...\n",
      "   [ 3.85  3.85  3.85 ...  3.85  3.85  3.85]\n",
      "   [ 3.9   3.9   3.9  ...  3.9   3.9   3.9 ]\n",
      "   [ 3.95  3.95  3.95 ...  3.95  3.95  3.95]]\n",
      "\n",
      "  ...\n",
      "\n",
      "  [[-4.   -4.   -4.   ... -4.   -4.   -4.  ]\n",
      "   [-3.95 -3.95 -3.95 ... -3.95 -3.95 -3.95]\n",
      "   [-3.9  -3.9  -3.9  ... -3.9  -3.9  -3.9 ]\n",
      "   ...\n",
      "   [ 3.85  3.85  3.85 ...  3.85  3.85  3.85]\n",
      "   [ 3.9   3.9   3.9  ...  3.9   3.9   3.9 ]\n",
      "   [ 3.95  3.95  3.95 ...  3.95  3.95  3.95]]\n",
      "\n",
      "  [[-4.   -4.   -4.   ... -4.   -4.   -4.  ]\n",
      "   [-3.95 -3.95 -3.95 ... -3.95 -3.95 -3.95]\n",
      "   [-3.9  -3.9  -3.9  ... -3.9  -3.9  -3.9 ]\n",
      "   ...\n",
      "   [ 3.85  3.85  3.85 ...  3.85  3.85  3.85]\n",
      "   [ 3.9   3.9   3.9  ...  3.9   3.9   3.9 ]\n",
      "   [ 3.95  3.95  3.95 ...  3.95  3.95  3.95]]\n",
      "\n",
      "  [[-4.   -4.   -4.   ... -4.   -4.   -4.  ]\n",
      "   [-3.95 -3.95 -3.95 ... -3.95 -3.95 -3.95]\n",
      "   [-3.9  -3.9  -3.9  ... -3.9  -3.9  -3.9 ]\n",
      "   ...\n",
      "   [ 3.85  3.85  3.85 ...  3.85  3.85  3.85]\n",
      "   [ 3.9   3.9   3.9  ...  3.9   3.9   3.9 ]\n",
      "   [ 3.95  3.95  3.95 ...  3.95  3.95  3.95]]]\n",
      "\n",
      "\n",
      " [[[-4.   -3.95 -3.9  ...  3.85  3.9   3.95]\n",
      "   [-4.   -3.95 -3.9  ...  3.85  3.9   3.95]\n",
      "   [-4.   -3.95 -3.9  ...  3.85  3.9   3.95]\n",
      "   ...\n",
      "   [-4.   -3.95 -3.9  ...  3.85  3.9   3.95]\n",
      "   [-4.   -3.95 -3.9  ...  3.85  3.9   3.95]\n",
      "   [-4.   -3.95 -3.9  ...  3.85  3.9   3.95]]\n",
      "\n",
      "  [[-4.   -3.95 -3.9  ...  3.85  3.9   3.95]\n",
      "   [-4.   -3.95 -3.9  ...  3.85  3.9   3.95]\n",
      "   [-4.   -3.95 -3.9  ...  3.85  3.9   3.95]\n",
      "   ...\n",
      "   [-4.   -3.95 -3.9  ...  3.85  3.9   3.95]\n",
      "   [-4.   -3.95 -3.9  ...  3.85  3.9   3.95]\n",
      "   [-4.   -3.95 -3.9  ...  3.85  3.9   3.95]]\n",
      "\n",
      "  [[-4.   -3.95 -3.9  ...  3.85  3.9   3.95]\n",
      "   [-4.   -3.95 -3.9  ...  3.85  3.9   3.95]\n",
      "   [-4.   -3.95 -3.9  ...  3.85  3.9   3.95]\n",
      "   ...\n",
      "   [-4.   -3.95 -3.9  ...  3.85  3.9   3.95]\n",
      "   [-4.   -3.95 -3.9  ...  3.85  3.9   3.95]\n",
      "   [-4.   -3.95 -3.9  ...  3.85  3.9   3.95]]\n",
      "\n",
      "  ...\n",
      "\n",
      "  [[-4.   -3.95 -3.9  ...  3.85  3.9   3.95]\n",
      "   [-4.   -3.95 -3.9  ...  3.85  3.9   3.95]\n",
      "   [-4.   -3.95 -3.9  ...  3.85  3.9   3.95]\n",
      "   ...\n",
      "   [-4.   -3.95 -3.9  ...  3.85  3.9   3.95]\n",
      "   [-4.   -3.95 -3.9  ...  3.85  3.9   3.95]\n",
      "   [-4.   -3.95 -3.9  ...  3.85  3.9   3.95]]\n",
      "\n",
      "  [[-4.   -3.95 -3.9  ...  3.85  3.9   3.95]\n",
      "   [-4.   -3.95 -3.9  ...  3.85  3.9   3.95]\n",
      "   [-4.   -3.95 -3.9  ...  3.85  3.9   3.95]\n",
      "   ...\n",
      "   [-4.   -3.95 -3.9  ...  3.85  3.9   3.95]\n",
      "   [-4.   -3.95 -3.9  ...  3.85  3.9   3.95]\n",
      "   [-4.   -3.95 -3.9  ...  3.85  3.9   3.95]]\n",
      "\n",
      "  [[-4.   -3.95 -3.9  ...  3.85  3.9   3.95]\n",
      "   [-4.   -3.95 -3.9  ...  3.85  3.9   3.95]\n",
      "   [-4.   -3.95 -3.9  ...  3.85  3.9   3.95]\n",
      "   ...\n",
      "   [-4.   -3.95 -3.9  ...  3.85  3.9   3.95]\n",
      "   [-4.   -3.95 -3.9  ...  3.85  3.9   3.95]\n",
      "   [-4.   -3.95 -3.9  ...  3.85  3.9   3.95]]]]\n"
     ]
    },
    {
     "name": "stderr",
     "output_type": "stream",
     "text": [
      "/var/folders/95/7_vspww56v5bfch3bd_lv06c0000gn/T/ipykernel_77728/3658379681.py:13: RuntimeWarning: divide by zero encountered in divide\n",
      "  u, v, w = Idf[:, np.newaxis, np.newaxis, np.newaxis] / modr + rrTf / modr**3.\n",
      "/var/folders/95/7_vspww56v5bfch3bd_lv06c0000gn/T/ipykernel_77728/3658379681.py:13: RuntimeWarning: invalid value encountered in divide\n",
      "  u, v, w = Idf[:, np.newaxis, np.newaxis, np.newaxis] / modr + rrTf / modr**3.\n"
     ]
    }
   ],
   "source": [
    "f = np.array([0, 1, 0])           # direction of the force\n",
    "r0 = np.array([0,0,0])\n",
    "\n",
    "def stokeslet(f, r0, mX, mY, mZ):\n",
    "\n",
    "    Id = np.array([[1, 0, 0], [0, 1, 0], [0, 0, 1]])\n",
    "    r = np.array([mX - r0[0], mY - r0[1], mZ - r0[2]])\n",
    "    print(r)\n",
    "    Idf = np.dot(Id, f)\n",
    "    rTf = (r * f[:, np.newaxis, np.newaxis, np.newaxis]).sum(axis=0)\n",
    "    rrTf = (r * rTf[np.newaxis,])\n",
    "    modr = np.sqrt(r[0]**2 + r[1]**2 + r[2]**2)\n",
    "    u, v, w = Idf[:, np.newaxis, np.newaxis, np.newaxis] / modr + rrTf / modr**3.\n",
    "    return [u, v, w] \n",
    "\n",
    "Ex, Ey, Ez = stokeslet(f, r0, X, Y, Z)"
   ]
  },
  {
   "cell_type": "code",
   "execution_count": 4,
   "metadata": {
    "id": "RwYkOp4MuzuG"
   },
   "outputs": [],
   "source": [
    "\n",
    "Exi = RGI((X[:, 0, 0], Y[0, :, 0], Z[0, 0, :]), Ex, method='linear')\n",
    "\n",
    "Eyi = RGI((X[:, 0, 0], Y[0, :, 0], Z[0, 0, :]), Ey, method='linear')\n",
    "\n",
    "Ezi = RGI((X[:, 0, 0], Y[0, :, 0], Z[0, 0, :]), Ez, method='linear') \n"
   ]
  },
  {
   "cell_type": "code",
   "execution_count": 5,
   "metadata": {
    "id": "CzOVa4lgvb5a"
   },
   "outputs": [],
   "source": [
    "def IL3(t, coord):\n",
    "    global abort\n",
    "    xi = coord[0]\n",
    "    yi = coord[1]\n",
    "    zi = coord[2]\n",
    "    try:\n",
    "        ex = Exi([xi, yi, zi])[0]\n",
    "        ey = Eyi([xi, yi, zi])[0]\n",
    "        ez = Ezi([xi, yi, zi])[0]\n",
    "    except:\n",
    "        abort = True\n",
    "        return [0, 0, 0]\n",
    "    return [ex, ey, ez]"
   ]
  },
  {
   "cell_type": "code",
   "execution_count": 6,
   "metadata": {
    "colab": {
     "base_uri": "https://localhost:8080/"
    },
    "id": "_QfB6nsFLFMX",
    "outputId": "9c943df2-49c6-4d9a-8773-d3fd0b3bfe0d"
   },
   "outputs": [],
   "source": [
    "\n",
    "n = 5\n",
    "space = np.linspace(-2.5, 2.5, n)\n",
    "exes = np.zeros(n*n)\n",
    "ezes = np.zeros(n*n)\n",
    "eyes = np.zeros(n*n)\n",
    "step = 0\n",
    "\n",
    "exes = []\n",
    "ezes = []\n",
    "eyes = []\n",
    "\n",
    "for i in range(0, n):\n",
    "  for k in range(0, n):\n",
    "      step = step +1\n",
    "      exes.append(space[i])\n",
    "      ezes.append(space[k])\n",
    "      eyes.append(-2.5)\n",
    "\n",
    "\n",
    "\n",
    "xxx = np.zeros(n*n)\n",
    "yyy = np.zeros(n*n)\n",
    "zzz = np.zeros(n*n)\n",
    "\n",
    "for i in range(0, n*n):\n",
    "  xxx[i] = exes[i]\n",
    "  yyy[i] = eyes[i]\n",
    "  zzz[i] = ezes[i]\n",
    "\n",
    "places = np.vstack([xxx, yyy, zzz]).T"
   ]
  },
  {
   "cell_type": "code",
   "execution_count": 13,
   "metadata": {},
   "outputs": [
    {
     "name": "stdout",
     "output_type": "stream",
     "text": [
      "21\n"
     ]
    }
   ],
   "source": [
    "\n",
    "n=21\n",
    "R=2\n",
    "xxx = np.zeros(n)\n",
    "yyy = np.zeros(n)\n",
    "zzz = np.zeros(n)\n",
    "\n",
    "ystart = np.linspace(-2.5, -2.5, 21)\n",
    "\n",
    "angle = np.linspace(0, 2*np.pi, 21)\n",
    "\n",
    "xstart = np.zeros(21)\n",
    "zstart = np.zeros(21)\n",
    "\n",
    "for i in range(0, len(angle)):\n",
    "  zstart[i] = R*np.cos(angle[i])\n",
    "  xstart[i] = R*np.sin(angle[i])\n",
    "\n",
    "\n",
    "for i in range(0, n):\n",
    "  xxx[i] = xstart[i]\n",
    "  yyy[i] = ystart[i]\n",
    "  zzz[i] = zstart[i]\n",
    "\n",
    "places = np.vstack([xxx, yyy, zzz]).T\n",
    "print(len(zzz))\n"
   ]
  },
  {
   "cell_type": "code",
   "execution_count": 15,
   "metadata": {
    "colab": {
     "base_uri": "https://localhost:8080/",
     "height": 463
    },
    "id": "Kuf67DdhveVa",
    "outputId": "07ce7c15-0cad-4cc8-d973-47531e521d35"
   },
   "outputs": [
    {
     "data": {
      "image/png": "[encoded data removed]",
      "text/plain": [
       "<Figure size 640x480 with 1 Axes>"
      ]
     },
     "metadata": {},
     "output_type": "display_data"
    }
   ],
   "source": [
    "\n",
    "ax = plt.figure().add_subplot(projection='3d')\n",
    "\n",
    "dt = step_size\n",
    "\n",
    "\n",
    "\n",
    "\n",
    "xlist = []\n",
    "ylist = []\n",
    "zlist = []\n",
    "for p in places:\n",
    "\n",
    "  r = ode(IL3)\n",
    "  r.set_integrator(integrmodel)\n",
    "  lx=[p[0]]\n",
    "  ly=[p[1]]\n",
    "  lz = [p[2]]\n",
    "  r.set_initial_value([lx[0], ly[0], lz[0]], 0)\n",
    "\n",
    "  step = 0\n",
    "  abort = False\n",
    "\n",
    "  while r.successful():\n",
    "      step += 1\n",
    "\n",
    "      r.integrate(r.t+dt)\n",
    "      x, y, z = r.y[0], r.y[1], r.y[2]\n",
    "\n",
    "      lx.append(x)\n",
    "      ly.append(y)\n",
    "      lz.append(z)\n",
    "      xlist.append(x)\n",
    "      ylist.append(y)\n",
    "      zlist.append(z)\n",
    "      \n",
    "      if s >= x or e <= x or s >= y or e <= y or  s >= z or e <= z:\n",
    "          xlist.append(None)\n",
    "          ylist.append(None)\n",
    "          zlist.append(None)\n",
    "          break\n",
    "\n",
    "      if step >= max_step:\n",
    "          xlist.append(None)\n",
    "          ylist.append(None)\n",
    "          zlist.append(None) \n",
    "          break\n",
    "\n",
    "      if abort is True:\n",
    "          abort = False\n",
    "          xlist.append(None)\n",
    "          ylist.append(None)\n",
    "          zlist.append(None) \n",
    "          break\n",
    "\n",
    "      plt.plot(lx, ly, lz,  'k', lw=0.5)\n",
    "\n",
    "        #singe_array = np.array([None, None, None])\n",
    "        #triple_list.append(single_array)"
   ]
  },
  {
   "cell_type": "code",
   "execution_count": 16,
   "metadata": {
    "id": "O9DgWtd0wph-"
   },
   "outputs": [],
   "source": [
    "triple_list = []\n",
    "\n",
    "for i in range(0, len(xlist)):\n",
    "    single_array = np.array([xlist[i], ylist[i], zlist[i]])\n",
    "    triple_list.append(single_array)\n",
    "\n",
    "triple_array = np.array(triple_list)\n",
    "\n",
    "\n",
    "np.savez('output_22', triple_array)"
   ]
  },
  {
   "cell_type": "code",
   "execution_count": 12,
   "metadata": {
    "colab": {
     "base_uri": "https://localhost:8080/",
     "height": 350
    },
    "id": "TqECTRTrRKG1",
    "outputId": "1b0e3cf4-7858-488f-a3bf-4cc6d60df78b"
   },
   "outputs": [
    {
     "name": "stdout",
     "output_type": "stream",
     "text": [
      "[[-2.4992300747839122 -2.4969202732852613 -2.4992300747839122]\n",
      " [-2.498459938286775 -2.493839660473884 -2.498459938286775]\n",
      " [-2.497689577284779 -2.4907581061062785 -2.497689577284779]\n",
      " ...\n",
      " [2.1253979502492126 0.8716722445223737 2.1253979502492126]\n",
      " [2.126003017227297 0.8751154228222533 2.126003017227297]\n",
      " [None None None]]\n"
     ]
    }
   ],
   "source": [
    "print(triple_array)"
   ]
  },
  {
   "cell_type": "code",
   "execution_count": 31,
   "metadata": {
    "colab": {
     "base_uri": "https://localhost:8080/",
     "height": 69
    },
    "id": "89tZy-JOzJes",
    "outputId": "bf005561-acb4-44ae-bb8e-d84f9eeae845"
   },
   "outputs": [
    {
     "data": {
      "text/plain": [
       "'\\n\\nfor i in range(n_sphere):\\n\\n  phi = random.uniform(-np.pi, np.pi)\\n  tet = random.uniform(-np.pi, np.pi)\\n  lx = [r0[0] + np.sin(phi) * np.cos(tet) * Rsphere]\\n  ly = [0]\\n  lz = [r0[2] + np.cos(phi) * Rsphere]\\n\\n\\n  r = ode(IL3)\\n  r.set_integrator(integrmodel)\\n\\n  r.set_initial_value([lx[0], ly[0], lz[0]], 0)\\n'"
      ]
     },
     "execution_count": 31,
     "metadata": {},
     "output_type": "execute_result"
    }
   ],
   "source": [
    "\n",
    "\"\"\"\n",
    "\n",
    "for i in range(n_sphere):\n",
    "\n",
    "  phi = random.uniform(-np.pi, np.pi)\n",
    "  tet = random.uniform(-np.pi, np.pi)\n",
    "  lx = [r0[0] + np.sin(phi) * np.cos(tet) * Rsphere]\n",
    "  ly = [0]\n",
    "  lz = [r0[2] + np.cos(phi) * Rsphere]\n",
    "\n",
    "\n",
    "  r = ode(IL3)\n",
    "  r.set_integrator(integrmodel)\n",
    "\n",
    "  r.set_initial_value([lx[0], ly[0], lz[0]], 0)\n",
    "\"\"\""
   ]
  },
  {
   "cell_type": "code",
   "execution_count": null,
   "metadata": {
    "id": "ajmdi9skRI0i"
   },
   "outputs": [],
   "source": []
  },
  {
   "cell_type": "code",
   "execution_count": 17,
   "metadata": {
    "colab": {
     "base_uri": "https://localhost:8080/"
    },
    "id": "_3HZi-8xQnyO",
    "outputId": "b1910e9d-b07b-4b19-a278-8727462904f0"
   },
   "outputs": [
    {
     "name": "stdout",
     "output_type": "stream",
     "text": [
      "x:  23043 y:  23043 z:  23043\n"
     ]
    }
   ],
   "source": [
    "print(\"x: \", len(xlist), \"y: \", len(ylist), \"z: \", len(zlist))"
   ]
  },
  {
   "cell_type": "code",
   "execution_count": 17,
   "metadata": {
    "id": "uqum15F4QwCL"
   },
   "outputs": [
    {
     "data": {
      "text/plain": [
       "[<matplotlib.lines.Line2D at 0x1732b8b20>,\n",
       " <matplotlib.lines.Line2D at 0x1732b8be0>]"
      ]
     },
     "execution_count": 17,
     "metadata": {},
     "output_type": "execute_result"
    },
    {
     "data": {
      "image/png": "[encoded data removed]",
      "text/plain": [
       "<Figure size 640x480 with 1 Axes>"
      ]
     },
     "metadata": {},
     "output_type": "display_data"
    }
   ],
   "source": [
    "plt.plot(xlist, ylist, zlist,  'k', lw=0.5)"
   ]
  },
  {
   "cell_type": "code",
   "execution_count": null,
   "metadata": {},
   "outputs": [],
   "source": []
  }
 ],
 "metadata": {
  "colab": {
   "provenance": []
  },
  "kernelspec": {
   "display_name": "Python 3 (ipykernel)",
   "language": "python",
   "name": "python3"
  },
  "language_info": {
   "codemirror_mode": {
    "name": "ipython",
    "version": 3
   },
   "file_extension": ".py",
   "mimetype": "text/x-python",
   "name": "python",
   "nbconvert_exporter": "python",
   "pygments_lexer": "ipython3",
   "version": "3.10.14"
  }
 },
 "nbformat": 4,
 "nbformat_minor": 4
}
