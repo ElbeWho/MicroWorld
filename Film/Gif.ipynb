{
 "cells": [
  {
   "cell_type": "code",
   "execution_count": 14,
   "id": "9e4abd75",
   "metadata": {},
   "outputs": [],
   "source": [
    "#This Notebook contains a code taht perfectly works for a gif and is a basis to expand in \"Brudnopis.ipynb\"\n",
    "#It is not the final version of what is expected"
   ]
  },
  {
   "cell_type": "code",
   "execution_count": 1,
   "id": "186df2b3",
   "metadata": {},
   "outputs": [],
   "source": [
    "import numpy as np\n",
    "import seaborn as sns\n",
    "import matplotlib.pyplot as plt\n",
    "from scipy import interpolate\n",
    "from scipy.integrate import ode\n",
    "import matplotlib.colors as colors\n",
    "import matplotlib.cbook as cbook\n",
    "from matplotlib import cm\n",
    "import animatplot as amp\n",
    "import imageio\n"
   ]
  },
  {
   "cell_type": "code",
   "execution_count": 2,
   "id": "2e5c50fe",
   "metadata": {},
   "outputs": [],
   "source": [
    "a=5\n",
    "b= 100\n",
    "xx = np.linspace(-a, a, b)\n",
    "yy = np.linspace(-a, a, b)\n",
    "mX, mY = np.meshgrid(xx,yy)"
   ]
  },
  {
   "cell_type": "code",
   "execution_count": 3,
   "id": "9eb6be1b",
   "metadata": {},
   "outputs": [],
   "source": [
    "def stokeslet(f,r0,mX,mY):\n",
    "    Id=np.array([[1,0],[0,1]])\n",
    "    r=np.array([mX-r0[0],mY-r0[1]])\n",
    "\n",
    "    Idf=np.dot(Id,f) \n",
    "    \n",
    "    rTf=(r*f[:,np.newaxis,np.newaxis]).sum(axis=0)\n",
    "    rrTf=(r*rTf[np.newaxis,])\n",
    "    modr=(r[0]**2+r[1]**2)**.5\n",
    "    \n",
    "    u,v=Idf[:,np.newaxis,np.newaxis]/modr[np.newaxis]+rrTf/modr**3.\n",
    "    return [u,v]\n",
    "\n",
    "def B_dir(t,p,fx,fz):\n",
    "    ex = fx(p[0],p[1])\n",
    "    ez = fz(p[0],p[1])\n",
    "    n = (ex**2.0+ez**2.0)**0.5\n",
    "    return [ex/n, ez/n]"
   ]
  },
  {
   "cell_type": "code",
   "execution_count": 4,
   "id": "37a6c86a",
   "metadata": {},
   "outputs": [],
   "source": [
    "R=0.001\n",
    "dt=0.8*R\n",
    "r1=np.array([1.3/np.sqrt(3),1])   # f is direction of the force\n",
    "f=np.array([0,1])                         # r is position of the force red arrow - touchdown point\n",
    "r2=np.array([-1.3/np.sqrt(3),1])\n",
    "r3=np.array([0,0])\n",
    "x0, x1= -0.99*a, 0.99*a\n",
    "y0, y1= -0.99*a, 0.99*a"
   ]
  },
  {
   "cell_type": "code",
   "execution_count": 5,
   "id": "1e6fe6a8",
   "metadata": {},
   "outputs": [],
   "source": [
    "amx = np.linspace(np.cos(np.arctan(2/np.sqrt(3))), np.cos(0), 30)\n",
    "amy = np.linspace(np.sin(np.arctan(2/np.sqrt(3))), np.sin(0), 30)\n",
    "amcordinates= np.vstack([amx,amy]).T\n",
    "appendix= np.array([])\n",
    "names=[]"
   ]
  },
  {
   "cell_type": "code",
   "execution_count": 6,
   "id": "ad056dfa",
   "metadata": {},
   "outputs": [
    {
     "name": "stderr",
     "output_type": "stream",
     "text": [
      "/Library/Frameworks/Python.framework/Versions/3.10/lib/python3.10/site-packages/scipy/integrate/_ode.py:1013: UserWarning: vode: Excess work done on this call. (Perhaps wrong MF.)\n",
      "  warnings.warn('{:s}: {:s}'.format(self.__class__.__name__,\n"
     ]
    }
   ],
   "source": [
    "#!!!!!!!!!!\n",
    "\n",
    "#nie klikamy tu\n",
    "\n",
    "for j in amcordinates:\n",
    "    fig=plt.figure(figsize=(6,6),facecolor=\"w\")\n",
    "    ax = plt.axes()\n",
    "    u1,v1=stokeslet((-.5)*f,np.array([r1[0]*j[0], r1[1]*j[1]]),mX,mY)\n",
    "    u2,v2=stokeslet((-.5)*f,np.array([r2[0]*j[0], r2[1]*j[1]]),mX,mY)\n",
    "    u3,v3=stokeslet(f,r3,mX,mY)\n",
    "    u=u1+u2+u3\n",
    "    v=v1+v2+v3\n",
    "    \n",
    "    # set the starting point of the magnetic field line\n",
    "    xstart = np.linspace(-0.99*a, 0.99*a, 14)\n",
    "    additional = np.linspace(-0.99*a, 0.99*a, 8)\n",
    "    ystart = np.zeros(22)\n",
    "    for i in additional:\n",
    "        xstart = np.append(xstart, -i)\n",
    "\n",
    "    for i in range(0, 22):\n",
    "        if i<14:\n",
    "            ystart[i]=0.99*a\n",
    "        if i>=14:\n",
    "            ystart[i]=-0.99*a\n",
    "\n",
    "\n",
    "    places=np.vstack([xstart,ystart]).T\n",
    "\n",
    "    fbx = interpolate.interp2d(xx,yy,u)\n",
    "    fbz = interpolate.interp2d(xx,yy,v)\n",
    "\n",
    "    r=ode(B_dir)\n",
    "    r.set_integrator('vode')\n",
    "    r.set_f_params(fbx,fbz)\n",
    "\n",
    "    xs,ys = [],[]\n",
    "    for p in places:\n",
    "        x=[p[0]] \n",
    "        y=[p[1]]\n",
    "        r.set_initial_value([p[0], p[1]], 0)\n",
    "        while r.successful():\n",
    "            r.integrate(r.t+dt)\n",
    "            x.append(r.y[0])\n",
    "            y.append(r.y[1])\n",
    "            hit_electrode=False\n",
    "            if (not (x0<r.y[0] and r.y[0]<x1)) or (not (y0<r.y[1] and r.y[1]<y1)):\n",
    "                break\n",
    "        xs.append(x)\n",
    "        ys.append(y)\n",
    "    \n",
    "    Z = np.sqrt(v**2+u**2)\n",
    "    ax.pcolormesh(mX, mY, Z,\n",
    "                norm=colors.LogNorm(vmin= 10**(-4), vmax=10**2),\n",
    "                      snap=True,\n",
    "               cmap=plt.cm.inferno, rasterized=True, \n",
    "               shading='gouraud', zorder=0)\n",
    "    \n",
    "    for x,y in zip(xs,ys):\n",
    "        ax.plot(x,y, color=\"k\" , zorder=10)\n",
    "        \n",
    "    plt.savefig('plot'+str(j)+'.png',\n",
    "                #bbox_inches='tight', pad_inches=0, dpi=400\n",
    "               )\n",
    "    \n",
    "    plt.close(fig='all')\n"
   ]
  },
  {
   "cell_type": "code",
   "execution_count": 8,
   "id": "1ac2374a",
   "metadata": {},
   "outputs": [],
   "source": [
    "import os, sys\n",
    "import imageio.v2 as imageio"
   ]
  },
  {
   "cell_type": "code",
   "execution_count": 9,
   "id": "f95c5a97",
   "metadata": {},
   "outputs": [],
   "source": [
    "names= []\n",
    "for j in amcordinates:\n",
    "    names.append('plot'+str(j)+'.png')\n"
   ]
  },
  {
   "cell_type": "code",
   "execution_count": 10,
   "id": "98a8201f",
   "metadata": {},
   "outputs": [],
   "source": [
    "with imageio.get_writer('mygif2.gif', mode='I') as writer:\n",
    "    for filename in names:\n",
    "        image = imageio.imread(filename)\n",
    "        writer.append_data(image)"
   ]
  },
  {
   "cell_type": "code",
   "execution_count": 11,
   "id": "c4478d11",
   "metadata": {},
   "outputs": [],
   "source": [
    "#os.listdir()\n",
    "for filename in set(names):\n",
    "       os.remove(filename)"
   ]
  },
  {
   "cell_type": "code",
   "execution_count": 13,
   "id": "e251d145",
   "metadata": {},
   "outputs": [
    {
     "name": "stdout",
     "output_type": "stream",
     "text": [
      "converting\n",
      "\tmygif2.gif\n",
      "to\n",
      "\tmygif2.mp4\n",
      "frame 29\n",
      "Finalizing...\n",
      "Done.\n"
     ]
    }
   ],
   "source": [
    "class TargetFormat(object):\n",
    "    GIF = \".gif\"\n",
    "    MP4 = \".mp4\"\n",
    "    AVI = \".avi\"\n",
    "\n",
    "def convertFile(inputpath, targetFormat):\n",
    "    \"\"\"Reference: http://imageio.readthedocs.io/en/latest/examples.html#convert-a-movie\"\"\"\n",
    "    outputpath = os.path.splitext(inputpath)[0] + targetFormat\n",
    "    print(\"converting\\r\\n\\t{0}\\r\\nto\\r\\n\\t{1}\".format(inputpath, outputpath))\n",
    "\n",
    "    reader = imageio.get_reader(inputpath)\n",
    "    #fps = reader.get_meta_data()['fps']\n",
    "    fps=5\n",
    "\n",
    "    writer = imageio.get_writer(outputpath, fps=fps)\n",
    "    for i,im in enumerate(reader):\n",
    "        sys.stdout.write(\"\\rframe {0}\".format(i))\n",
    "        sys.stdout.flush()\n",
    "        writer.append_data(im)\n",
    "    print(\"\\r\\nFinalizing...\")\n",
    "    writer.close()\n",
    "    print(\"Done.\")\n",
    "\n",
    "convertFile(\"mygif2.gif\", TargetFormat.MP4)"
   ]
  },
  {
   "cell_type": "markdown",
   "id": "c45d9862",
   "metadata": {},
   "source": [
    "![mygif_gif](mygif.gif)"
   ]
  },
  {
   "cell_type": "code",
   "execution_count": null,
   "id": "aa9f4587",
   "metadata": {},
   "outputs": [],
   "source": []
  }
 ],
 "metadata": {
  "kernelspec": {
   "display_name": "Python 3.10.4 64-bit",
   "language": "python",
   "name": "python3"
  },
  "language_info": {
   "codemirror_mode": {
    "name": "ipython",
    "version": 3
   },
   "file_extension": ".py",
   "mimetype": "text/x-python",
   "name": "python",
   "nbconvert_exporter": "python",
   "pygments_lexer": "ipython3",
   "version": "3.10.4 (v3.10.4:9d38120e33, Mar 23 2022, 17:29:05) [Clang 13.0.0 (clang-1300.0.29.30)]"
  },
  "vscode": {
   "interpreter": {
    "hash": "aee8b7b246df8f9039afb4144a1f6fd8d2ca17a180786b69acc140d282b71a49"
   }
  }
 },
 "nbformat": 4,
 "nbformat_minor": 5
}
