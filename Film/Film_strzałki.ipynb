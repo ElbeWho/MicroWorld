{
 "cells": [
  {
   "cell_type": "code",
   "execution_count": 1,
   "id": "aac8a3b5",
   "metadata": {},
   "outputs": [],
   "source": [
    "#gotowa (albo najbardziej zblizona do takiej) wersja filmu"
   ]
  },
  {
   "cell_type": "code",
   "execution_count": 1,
   "id": "186df2b3",
   "metadata": {},
   "outputs": [],
   "source": [
    "import numpy as np\n",
    "import seaborn as sns\n",
    "import matplotlib.pyplot as plt\n",
    "from scipy import interpolate\n",
    "from scipy.integrate import ode\n",
    "import matplotlib.colors as colors\n",
    "import matplotlib.cbook as cbook\n",
    "from matplotlib import cm\n",
    "import animatplot as amp\n",
    "import imageio\n"
   ]
  },
  {
   "cell_type": "code",
   "execution_count": 2,
   "id": "2e5c50fe",
   "metadata": {},
   "outputs": [],
   "source": [
    "a=5\n",
    "b= 100\n",
    "xx = np.linspace(-a, a, b)\n",
    "yy = np.linspace(-a, a, b)\n",
    "mX, mY = np.meshgrid(xx,yy)"
   ]
  },
  {
   "cell_type": "code",
   "execution_count": 3,
   "id": "9eb6be1b",
   "metadata": {},
   "outputs": [],
   "source": [
    "def stokeslet(f,r0,mX,mY):\n",
    "    Id=np.array([[1,0],[0,1]])\n",
    "    r=np.array([mX-r0[0],mY-r0[1]])\n",
    "\n",
    "    Idf=np.dot(Id,f) \n",
    "    \n",
    "    rTf=(r*f[:,np.newaxis,np.newaxis]).sum(axis=0)\n",
    "    rrTf=(r*rTf[np.newaxis,])\n",
    "    modr=(r[0]**2+r[1]**2)**.5\n",
    "    \n",
    "    u,v=Idf[:,np.newaxis,np.newaxis]/modr[np.newaxis]+rrTf/modr**3.\n",
    "    return [u,v]\n",
    "\n",
    "def B_dir(t,p,fx,fz):\n",
    "    ex = fx(p[0],p[1])\n",
    "    ez = fz(p[0],p[1])\n",
    "    n = (ex**2.0+ez**2.0)**0.5\n",
    "    return [ex/n, ez/n]"
   ]
  },
  {
   "cell_type": "code",
   "execution_count": 4,
   "id": "37a6c86a",
   "metadata": {},
   "outputs": [],
   "source": [
    "R=0.001\n",
    "dt=0.8*R\n",
    "r1=np.array([1.3/np.sqrt(3),1])   # f is direction of the force\n",
    "f=np.array([0,1])                         # r is position of the force red arrow - touchdown point\n",
    "r2=np.array([-1.3/np.sqrt(3),1])\n",
    "r3=np.array([0,0])\n",
    "x0, x1= -0.99*a, 0.99*a\n",
    "y0, y1= -0.99*a, 0.99*a"
   ]
  },
  {
   "cell_type": "code",
   "execution_count": 5,
   "id": "1e6fe6a8",
   "metadata": {},
   "outputs": [],
   "source": [
    "amx = np.linspace(np.cos(np.arctan(2/np.sqrt(3))), np.cos(0), 20)\n",
    "amy = np.linspace(np.sin(np.arctan(2/np.sqrt(3))), np.sin(0), 20)\n",
    "amcordinates= np.vstack([amx,amy]).T\n",
    "appendix= np.array([])\n",
    "names=[]"
   ]
  },
  {
   "cell_type": "code",
   "execution_count": 54,
   "id": "ad056dfa",
   "metadata": {},
   "outputs": [],
   "source": [
    "\n",
    "\n",
    "for j in amcordinates:\n",
    "    fig=plt.figure(figsize=(6,6),facecolor=\"w\")\n",
    "    ax = plt.axes()\n",
    "    u1,v1=stokeslet((-.5)*f,np.array([r1[0]*j[0], r1[1]*j[1]]),mX,mY)\n",
    "    u2,v2=stokeslet((-.5)*f,np.array([r2[0]*j[0], r2[1]*j[1]]),mX,mY)\n",
    "    u3,v3=stokeslet(f,r3,mX,mY)\n",
    "    u=u1+u2+u3\n",
    "    v=v1+v2+v3\n",
    "    \n",
    "    # set the starting point of the magnetic field line\n",
    "    xstart = np.linspace(-0.99*a, 0.99*a, 14)\n",
    "    additional = np.linspace(-0.99*a, 0.99*a, 8)\n",
    "    \n",
    "    ystart = np.zeros(22)\n",
    "    for i in additional:\n",
    "        xstart = np.append(xstart, -i)\n",
    "\n",
    "    for i in range(0, 22):\n",
    "        if i<14:\n",
    "            ystart[i]=0.99*a\n",
    "        if i>=14:\n",
    "            ystart[i]=-0.99*a\n",
    "\n",
    "\n",
    "    places=np.vstack([xstart,ystart]).T\n",
    "\n",
    "    fbx = interpolate.interp2d(xx,yy,u)\n",
    "    fbz = interpolate.interp2d(xx,yy,v)\n",
    "\n",
    "    r=ode(B_dir)\n",
    "    r.set_integrator('vode')\n",
    "    r.set_f_params(fbx,fbz)\n",
    "\n",
    "    xs,ys = [],[]\n",
    "    for p in places:\n",
    "        x=[p[0]] \n",
    "        y=[p[1]]\n",
    "        r.set_initial_value([p[0], p[1]], 0)\n",
    "        while r.successful():\n",
    "            r.integrate(r.t+dt)\n",
    "            x.append(r.y[0])\n",
    "            y.append(r.y[1])\n",
    "            hit_electrode=False\n",
    "            if (not (x0<r.y[0] and r.y[0]<x1)) or (not (y0<r.y[1] and r.y[1]<y1)):\n",
    "                break\n",
    "        xs.append(x)\n",
    "        ys.append(y)\n",
    "        \n",
    "        \n",
    "    p, result = [], []\n",
    "        \n",
    "    for x in xs:\n",
    "        p.append(len(x))\n",
    "\n",
    "    [result.append(x) for x in p if x not in result]\n",
    "\n",
    "    result.sort()\n",
    "    \n",
    "        \n",
    "    k = result[-1]\n",
    "    \n",
    "    \n",
    "    l, m, k, M = result[0], result[1], result[-1], result[-2]\n",
    "    h = int(l/200)\n",
    "    p = int(m/200)\n",
    "    g = int(M/200)\n",
    "    \n",
    "\n",
    "    if l > 0:\n",
    "        for x,y in zip(xs,ys):\n",
    "            ax.plot(x,y, color=\"k\" , zorder=10)\n",
    "            if len(x) == M:\n",
    "                ax.arrow(x[100*g], y[100*g], (x[100*g-1]-x[100*g-2]), (y[100*g+5]-y[100*g+4]), length_includes_head=True, head_width=.15, color=\"k\", zorder=5)\n",
    "                ax.arrow(x[190*p], y[190*p], (x[190*p-1]-x[190*p-2]), (y[190*p+5]-y[190*p+4]), length_includes_head=True, head_width=.15, color=\"k\", zorder=5)\n",
    "            if len(x)<= k and len(x)>=m:\n",
    "                ax.arrow(x[190*p], y[190*p], (x[190*p-1]-x[190*p-2]), (y[190*p+5]-y[190*p+4]), length_includes_head=True, head_width=.15, color=\"k\", zorder=5)\n",
    "\n",
    "        \n",
    "    Z = np.sqrt(v**2+u**2)\n",
    "    ax.pcolormesh(mX, mY, Z,\n",
    "                norm=colors.LogNorm(vmin= 10**(-4), vmax=10**2),\n",
    "                      snap=True,\n",
    "               cmap=plt.cm.inferno, rasterized=True, \n",
    "               shading='gouraud', zorder=0)\n",
    "    \n",
    "    for x,y in zip(xs,ys):\n",
    "        ax.plot(x,y, color=\"k\" , zorder=10)\n",
    "\n",
    "    ax.arrow(x=0, y=0, dx=0, dy=1, head_width = 0.2,\n",
    "          width = 0.05,\n",
    "          color ='yellow', zorder=10) \n",
    "    ax.arrow(x=r1[0]*j[0], y=r1[1]*j[1], dx=0, dy=-.5, head_width = 0.2,\n",
    "          width = 0.05,\n",
    "          color ='yellow', zorder=10) \n",
    "    ax.arrow(x=r2[0]*j[0], y=r2[1]*j[1], dx=0, dy=-.5, head_width = 0.2,\n",
    "          width = 0.05,\n",
    "          color ='yellow', zorder=10) \n",
    "        \n",
    "    plt.savefig('plot' + str(j) + '.png',\n",
    "                bbox_inches='tight', pad_inches=0, dpi=400)\n",
    "    \n",
    "    plt.close(fig='all')\n"
   ]
  },
  {
   "cell_type": "code",
   "execution_count": 67,
   "id": "2290a89a",
   "metadata": {},
   "outputs": [
    {
     "data": {
      "text/plain": [
       "'\\n[5065, 7690, 7691, 8113, 9914, 10822, 11370, 12370, 13265, 13266, 13325, 13398, 13399, 14051, 14052] [0.65465367 0.75592895]\\n14052\\n5065\\n[4953, 7955, 9796, 10786, 11225, 11226, 11475, 12003, 12086, 12087, 12375, 12376, 12577, 16890, 16891] [0.67282979 0.71614321]\\n16891\\n4953\\n[4839, 7789, 7790, 9670, 10663, 10737, 11131, 11322, 11323, 11489, 11531, 12006, 17731, 17732] [0.69100592 0.67635748]\\n17732\\n4839\\n[4726, 7619, 9050, 9534, 10387, 10606, 10637, 10680, 11205, 11488, 11660] [0.70918204 0.63657174]\\n11660\\n4726\\n[4615, 7445, 9174, 9175, 9388, 9804, 9992, 10145, 10614, 11079, 11745, 12671] [0.72735816 0.59678601]\\n12671\\n4615\\n[4507, 7270, 7960, 9235, 9406, 9603, 9775, 9881, 10533, 10833, 11921] [0.74553428 0.55700028]\\n11921\\n4507\\n[4406, 7096, 9076, 9138, 9361, 9652, 9705, 10446, 10697, 11570, 12087, 12088] [0.76371041 0.51721454]\\n12088\\n4406\\n[4314, 6929, 8729, 8916, 8992, 9412, 9514, 10353, 10588, 11993, 22534] [0.78188653 0.47742881]\\n22534\\n4314\\n[4235, 6770, 8756, 9151, 9152, 9417, 9721, 10255, 10386, 10682, 10683, 12020, 12021, 21261, 21262] [0.80006265 0.43764307]\\n21262\\n4235\\n[4172, 6625, 8602, 9449, 9838, 9898, 10156, 10684, 10685, 10915, 12452, 20759] [0.81823877 0.39785734]\\n20759\\n4172\\n[4133, 6503, 8460, 10060, 10273, 10315, 10720, 10721, 11328, 11402, 13359, 13360, 20810] [0.8364149  0.35807161]\\n20810\\n4133\\n[4125, 6415, 8340, 9979, 10448, 10837, 11519, 11612, 12003, 14528, 21155] [0.85459102 0.31828587]\\n21155\\n4125\\n[4162, 6375, 8258, 9921, 11488, 11851, 13076, 13216, 13298, 16170, 22123] [0.87276714 0.27850014]\\n22123\\n4162\\n[4268, 6408, 8233, 9910, 14586, 14587, 14706, 15732, 15910, 15911, 16070, 16071, 19108, 24688] [0.89094326 0.2387144 ]\\n24688\\n4268\\n[2, 4482, 6549, 8297, 9982, 15305, 15424, 18003, 18568, 21295, 21296, 25720] [0.90911939 0.19892867]\\n25720\\n2\\n[2, 4882, 6849, 8502, 10219, 18603, 18647, 22341, 23598, 23599, 25787, 29151] [0.92729551 0.15914294]\\n29151\\n2\\n[2, 5582, 7379, 8931, 10897, 25363, 25538, 30785, 30786, 33195, 33196, 34121, 36135, 36136] [0.94547163 0.1193572 ]\\n36136\\n2\\n[2, 6666, 8236, 9783, 41747, 41748, 42126, 42128, 51277, 51279, 53086, 55111, 55112] [0.96364775 0.07957147]\\n55112\\n2\\n[2, 9676, 13232, 73685, 73686, 85404, 85406, 92473, 92477] [0.98182388 0.03978573]\\n92477\\n2\\n[2, 12554, 13046, 13047, 13444, 14093] [1. 0.]\\n14093\\n2\\n'"
      ]
     },
     "execution_count": 67,
     "metadata": {},
     "output_type": "execute_result"
    }
   ],
   "source": []
  },
  {
   "cell_type": "code",
   "execution_count": 55,
   "id": "1ac2374a",
   "metadata": {},
   "outputs": [],
   "source": [
    "import os\n",
    "import imageio.v2 as imageio"
   ]
  },
  {
   "cell_type": "code",
   "execution_count": 56,
   "id": "f95c5a97",
   "metadata": {},
   "outputs": [],
   "source": [
    "names= []\n",
    "for j in amcordinates:\n",
    "    names.append('plot'+str(j)+'.png')\n"
   ]
  },
  {
   "cell_type": "code",
   "execution_count": 57,
   "id": "98a8201f",
   "metadata": {},
   "outputs": [],
   "source": [
    "with imageio.get_writer('mygif1.gif', mode='I') as writer:\n",
    "    for filename in names:\n",
    "        image = imageio.imread(filename)\n",
    "        writer.append_data(image)"
   ]
  },
  {
   "cell_type": "code",
   "execution_count": null,
   "id": "8f2311b1",
   "metadata": {},
   "outputs": [],
   "source": []
  },
  {
   "cell_type": "code",
   "execution_count": 58,
   "id": "d6530b85",
   "metadata": {},
   "outputs": [
    {
     "name": "stdout",
     "output_type": "stream",
     "text": [
      "converting\n",
      "\tmygif1.gif\n",
      "to\n",
      "\tmygif1.mp4\n",
      "frame 0"
     ]
    },
    {
     "name": "stderr",
     "output_type": "stream",
     "text": [
      "IMAGEIO FFMPEG_WRITER WARNING: input image is not divisible by macro_block_size=16, resizing from (1980, 1904) to (1984, 1904) to ensure video compatibility with most codecs and players. To prevent resizing, make your input image divisible by the macro_block_size or set the macro_block_size to 1 (risking incompatibility).\n"
     ]
    },
    {
     "name": "stdout",
     "output_type": "stream",
     "text": [
      "frame 19\n",
      "Finalizing...\n",
      "Done.\n"
     ]
    }
   ],
   "source": [
    "import imageio\n",
    "import os, sys\n",
    "class TargetFormat(object):\n",
    "    GIF = \".gif\"\n",
    "    MP4 = \".mp4\"\n",
    "    AVI = \".avi\"\n",
    "\n",
    "def convertFile(inputpath, targetFormat):\n",
    "    \"\"\"Reference: http://imageio.readthedocs.io/en/latest/examples.html#convert-a-movie\"\"\"\n",
    "    outputpath = os.path.splitext(inputpath)[0] + targetFormat\n",
    "    print(\"converting\\r\\n\\t{0}\\r\\nto\\r\\n\\t{1}\".format(inputpath, outputpath))\n",
    "\n",
    "    reader = imageio.get_reader(inputpath)\n",
    "    #fps = reader.get_meta_data()['fps']\n",
    "    fps=7\n",
    "\n",
    "    writer = imageio.get_writer(outputpath, fps=fps)\n",
    "    for i,im in enumerate(reader):\n",
    "        sys.stdout.write(\"\\rframe {0}\".format(i))\n",
    "        sys.stdout.flush()\n",
    "        writer.append_data(im)\n",
    "    print(\"\\r\\nFinalizing...\")\n",
    "    writer.close()\n",
    "    print(\"Done.\")\n",
    "\n",
    "convertFile(\"mygif1.gif\", TargetFormat.MP4)"
   ]
  },
  {
   "cell_type": "code",
   "execution_count": 12,
   "id": "c4478d11",
   "metadata": {},
   "outputs": [],
   "source": [
    "\n",
    "for filename in set(names):\n",
    "     os.remove(filename)"
   ]
  },
  {
   "cell_type": "markdown",
   "id": "c45d9862",
   "metadata": {},
   "source": [
    "![mygif_gif](mygif.gif)"
   ]
  },
  {
   "cell_type": "code",
   "execution_count": null,
   "id": "aa9f4587",
   "metadata": {},
   "outputs": [],
   "source": []
  }
 ],
 "metadata": {
  "kernelspec": {
   "display_name": "Python 3.10.4 64-bit",
   "language": "python",
   "name": "python3"
  },
  "language_info": {
   "codemirror_mode": {
    "name": "ipython",
    "version": 3
   },
   "file_extension": ".py",
   "mimetype": "text/x-python",
   "name": "python",
   "nbconvert_exporter": "python",
   "pygments_lexer": "ipython3",
   "version": "3.10.4"
  },
  "vscode": {
   "interpreter": {
    "hash": "aee8b7b246df8f9039afb4144a1f6fd8d2ca17a180786b69acc140d282b71a49"
   }
  }
 },
 "nbformat": 4,
 "nbformat_minor": 5
}
