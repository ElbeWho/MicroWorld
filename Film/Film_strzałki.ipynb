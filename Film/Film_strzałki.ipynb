{
 "cells": [
  {
   "cell_type": "code",
   "execution_count": 1,
   "id": "aac8a3b5",
   "metadata": {},
   "outputs": [],
   "source": [
    "#gotowa (albo najbardziej zblizona do takiej) wersja filmu"
   ]
  },
  {
   "cell_type": "code",
   "execution_count": 2,
   "id": "186df2b3",
   "metadata": {},
   "outputs": [],
   "source": [
    "import numpy as np\n",
    "import seaborn as sns\n",
    "import matplotlib.pyplot as plt\n",
    "from scipy import interpolate\n",
    "from scipy.integrate import ode\n",
    "import matplotlib.colors as colors\n",
    "import matplotlib.cbook as cbook\n",
    "from matplotlib import cm\n",
    "import animatplot as amp\n",
    "import imageio\n",
    "from mpl_toolkits import axes_grid1\n"
   ]
  },
  {
   "cell_type": "code",
   "execution_count": 3,
   "id": "2e5c50fe",
   "metadata": {},
   "outputs": [],
   "source": [
    "a=5\n",
    "b= 100\n",
    "xx = np.linspace(-a, a, b)\n",
    "yy = np.linspace(-a, a, b)\n",
    "mX, mY = np.meshgrid(xx,yy)"
   ]
  },
  {
   "cell_type": "code",
   "execution_count": 4,
   "id": "9eb6be1b",
   "metadata": {},
   "outputs": [],
   "source": [
    "def stokeslet(f,r0,mX,mY):\n",
    "    Id=np.array([[1,0],[0,1]])\n",
    "    r=np.array([mX-r0[0],mY-r0[1]])\n",
    "\n",
    "    Idf=np.dot(Id,f) \n",
    "    \n",
    "    rTf=(r*f[:,np.newaxis,np.newaxis]).sum(axis=0)\n",
    "    rrTf=(r*rTf[np.newaxis,])\n",
    "    modr=(r[0]**2+r[1]**2)**.5\n",
    "    \n",
    "    u,v=Idf[:,np.newaxis,np.newaxis]/modr[np.newaxis]+rrTf/modr**3.\n",
    "    return [u,v]\n",
    "\n",
    "def B_dir(t,p,fx,fz):\n",
    "    ex = fx(p[0],p[1])\n",
    "    ez = fz(p[0],p[1])\n",
    "    n = (ex**2.0+ez**2.0)**0.5\n",
    "    return [ex/n, ez/n]\n",
    "\n",
    "def add_colorbar(im, aspect=20, pad_fraction=0.5, **kwargs):\n",
    "    \"\"\"Add a vertical color bar to an image plot.\"\"\"\n",
    "    divider = axes_grid1.make_axes_locatable(im.axes)\n",
    "    width = axes_grid1.axes_size.AxesY(im.axes, aspect=1./aspect)\n",
    "    pad = axes_grid1.axes_size.Fraction(pad_fraction, width)\n",
    "    current_ax = plt.gca()\n",
    "    cax = divider.append_axes(\"right\", size=width, pad=pad)\n",
    "    plt.sca(current_ax)\n",
    "    return im.axes.figure.colorbar(im, cax=cax, **kwargs)"
   ]
  },
  {
   "cell_type": "code",
   "execution_count": 5,
   "id": "37a6c86a",
   "metadata": {},
   "outputs": [],
   "source": [
    "R=0.001\n",
    "dt=0.8*R\n",
    "r1=np.array([1.3/np.sqrt(3),1])   # f is direction of the force\n",
    "f=np.array([0,1])                         # r is position of the force red arrow - touchdown point\n",
    "r2=np.array([-1.3/np.sqrt(3),1])\n",
    "r3=np.array([0,0])\n",
    "x0, x1= -0.99*a, 0.99*a\n",
    "y0, y1= -0.99*a, 0.99*a"
   ]
  },
  {
   "cell_type": "code",
   "execution_count": 6,
   "id": "1e6fe6a8",
   "metadata": {},
   "outputs": [],
   "source": [
    "amx = np.linspace(np.cos(np.arctan(2/np.sqrt(3))), np.cos(0), 20)\n",
    "amy = np.linspace(np.sin(np.arctan(2/np.sqrt(3))), np.sin(0), 20)\n",
    "amcordinates= np.vstack([amx,amy]).T\n",
    "appendix= np.array([])\n",
    "names=[]"
   ]
  },
  {
   "cell_type": "code",
   "execution_count": 7,
   "id": "ad056dfa",
   "metadata": {},
   "outputs": [
    {
     "name": "stderr",
     "output_type": "stream",
     "text": [
      "/Library/Frameworks/Python.framework/Versions/3.10/lib/python3.10/site-packages/scipy/integrate/_ode.py:1013: UserWarning: vode: Excess work done on this call. (Perhaps wrong MF.)\n",
      "  warnings.warn('{:s}: {:s}'.format(self.__class__.__name__,\n"
     ]
    }
   ],
   "source": [
    "#ZAPISANE DUZE DPI\n",
    "\n",
    "for j in amcordinates:\n",
    "    fig=plt.figure(figsize=(6,6),facecolor=\"w\")\n",
    "    ax = plt.axes()\n",
    "    u1,v1=stokeslet((-.5)*f,np.array([r1[0]*j[0], r1[1]*j[1]]),mX,mY)\n",
    "    u2,v2=stokeslet((-.5)*f,np.array([r2[0]*j[0], r2[1]*j[1]]),mX,mY)\n",
    "    u3,v3=stokeslet(f,r3,mX,mY)\n",
    "    u=u1+u2+u3\n",
    "    v=v1+v2+v3\n",
    "    \n",
    "    # set the starting point of the magnetic field line\n",
    "    xstart = np.linspace(-0.99*a, 0.99*a, 14)\n",
    "    additional = np.linspace(-0.99*a, 0.99*a, 8)\n",
    "    \n",
    "    ystart = np.zeros(22)\n",
    "    for i in additional:\n",
    "        xstart = np.append(xstart, -i)\n",
    "\n",
    "    for i in range(0, 22):\n",
    "        if i<14:\n",
    "            ystart[i]=0.99*a\n",
    "        if i>=14:\n",
    "            ystart[i]=-0.99*a\n",
    "\n",
    "\n",
    "    places=np.vstack([xstart,ystart]).T\n",
    "\n",
    "    fbx = interpolate.interp2d(xx,yy,u)\n",
    "    fbz = interpolate.interp2d(xx,yy,v)\n",
    "\n",
    "    r=ode(B_dir)\n",
    "    r.set_integrator('vode')\n",
    "    r.set_f_params(fbx,fbz)\n",
    "\n",
    "    xs,ys = [],[]\n",
    "    for p in places:\n",
    "        x=[p[0]] \n",
    "        y=[p[1]]\n",
    "        r.set_initial_value([p[0], p[1]], 0)\n",
    "        while r.successful():\n",
    "            r.integrate(r.t+dt)\n",
    "            x.append(r.y[0])\n",
    "            y.append(r.y[1])\n",
    "            hit_electrode=False\n",
    "            if (not (x0<r.y[0] and r.y[0]<x1)) or (not (y0<r.y[1] and r.y[1]<y1)):\n",
    "                break\n",
    "        xs.append(x)\n",
    "        ys.append(y)\n",
    "        \n",
    "        \n",
    "    p, result = [], []\n",
    "        \n",
    "    for x in xs:\n",
    "        p.append(len(x))\n",
    "\n",
    "    [result.append(x) for x in p if x not in result]\n",
    "\n",
    "    result.sort()\n",
    "    \n",
    "        \n",
    "    k = result[-1]\n",
    "    \n",
    "    \n",
    "    l, m, k, M = result[0], result[1], result[-1], result[-2]\n",
    "    #h = int(l/200)\n",
    "    p = int(m/200)\n",
    "    g = int(M/200)\n",
    "    \n",
    "\n",
    "    if l > 0:\n",
    "        for x,y in zip(xs,ys):\n",
    "            ax.plot(x,y, color=\"k\" , zorder=10)\n",
    "            if len(x) == M:\n",
    "                ax.arrow(x[100*g], y[100*g], (x[100*g-1]-x[100*g-2]), (y[100*g+5]-y[100*g+4]), length_includes_head=True, head_width=.15, color=\"k\", zorder=5)\n",
    "                ax.arrow(x[190*p], y[190*p], (x[190*p-1]-x[190*p-2]), (y[190*p+5]-y[190*p+4]), length_includes_head=True, head_width=.15, color=\"k\", zorder=5)\n",
    "            if len(x)<= k and len(x)>=m:\n",
    "                ax.arrow(x[190*p], y[190*p], (x[190*p-1]-x[190*p-2]), (y[190*p+5]-y[190*p+4]), length_includes_head=True, head_width=.15, color=\"k\", zorder=5)\n",
    "\n",
    "        \n",
    "    Z = np.sqrt(v**2+u**2)\n",
    "    ax.pcolormesh(mX, mY, Z,\n",
    "                norm=colors.LogNorm(vmin= 10**(-4), vmax=10**2),\n",
    "                      snap=True,\n",
    "               cmap=plt.cm.inferno, rasterized=True, \n",
    "               shading='gouraud', zorder=0)\n",
    "    \n",
    "    for x,y in zip(xs,ys):\n",
    "        ax.plot(x,y, color=\"k\" , zorder=10)\n",
    "\n",
    "    ax.arrow(x=0, y=0, dx=0, dy=1, head_width = 0.2,\n",
    "          width = 0.05,\n",
    "          color ='yellow', zorder=10) \n",
    "    ax.arrow(x=r1[0]*j[0], y=r1[1]*j[1], dx=0, dy=-.5, head_width = 0.2,\n",
    "          width = 0.05,\n",
    "          color ='yellow', zorder=10) \n",
    "    ax.arrow(x=r2[0]*j[0], y=r2[1]*j[1], dx=0, dy=-.5, head_width = 0.2,\n",
    "          width = 0.05,\n",
    "          color ='yellow', zorder=10) \n",
    "    \n",
    "    image = ax.pcolormesh(mX, mY, Z,\n",
    "                norm=colors.LogNorm(vmin= 10**(-4), vmax=10**4),    \n",
    "                #norm=colors.LogNorm(vmin=Z.min(), vmax=Z.max()), \n",
    "                      snap=True,\n",
    "               cmap=plt.cm.inferno, rasterized=True, \n",
    "               shading='gouraud', zorder=0)\n",
    "\n",
    "    add_colorbar(image)\n",
    "        \n",
    "    plt.savefig('plot' + str(j) + '.png',\n",
    "                bbox_inches='tight', pad_inches=0, dpi=400)\n",
    "    \n",
    "    plt.close(fig='all')\n"
   ]
  },
  {
   "cell_type": "code",
   "execution_count": null,
   "id": "2290a89a",
   "metadata": {},
   "outputs": [],
   "source": []
  },
  {
   "cell_type": "code",
   "execution_count": 33,
   "id": "1ac2374a",
   "metadata": {},
   "outputs": [],
   "source": [
    "#import os\n",
    "#import imageio.v2 as imageio"
   ]
  },
  {
   "cell_type": "code",
   "execution_count": 34,
   "id": "f95c5a97",
   "metadata": {},
   "outputs": [],
   "source": [
    "names= []\n",
    "for j in amcordinates:\n",
    "    names.append('plot'+str(j)+'.png')\n"
   ]
  },
  {
   "cell_type": "code",
   "execution_count": 35,
   "id": "98a8201f",
   "metadata": {},
   "outputs": [
    {
     "name": "stderr",
     "output_type": "stream",
     "text": [
      "/var/folders/95/7_vspww56v5bfch3bd_lv06c0000gn/T/ipykernel_28294/3491300753.py:3: DeprecationWarning: Starting with ImageIO v3 the behavior of this function will switch to that of iio.v3.imread. To keep the current behavior (and make this warning disappear) use `import imageio.v2 as imageio` or call `imageio.v2.imread` directly.\n",
      "  image = imageio.imread(filename)\n"
     ]
    }
   ],
   "source": [
    "with imageio.get_writer('otwarty_tor.gif', mode='I') as writer:\n",
    "    for filename in names:\n",
    "        image = imageio.imread(filename)\n",
    "        writer.append_data(image)"
   ]
  },
  {
   "cell_type": "code",
   "execution_count": null,
   "id": "8f2311b1",
   "metadata": {},
   "outputs": [],
   "source": []
  },
  {
   "cell_type": "code",
   "execution_count": 8,
   "id": "d6530b85",
   "metadata": {},
   "outputs": [
    {
     "name": "stdout",
     "output_type": "stream",
     "text": [
      "converting\n",
      "\totwarty_tor.gif\n",
      "to\n",
      "\totwarty_tor.mp4\n",
      "frame 0"
     ]
    },
    {
     "name": "stderr",
     "output_type": "stream",
     "text": [
      "IMAGEIO FFMPEG_WRITER WARNING: input image is not divisible by macro_block_size=16, resizing from (2147, 1926) to (2160, 1936) to ensure video compatibility with most codecs and players. To prevent resizing, make your input image divisible by the macro_block_size or set the macro_block_size to 1 (risking incompatibility).\n"
     ]
    },
    {
     "name": "stdout",
     "output_type": "stream",
     "text": [
      "frame 19"
     ]
    }
   ],
   "source": [
    "import imageio\n",
    "import os, sys\n",
    "class TargetFormat(object):\n",
    "    GIF = \".gif\"\n",
    "    MP4 = \".mp4\"\n",
    "    AVI = \".avi\"\n",
    "\n",
    "def convertFile(inputpath, targetFormat):\n",
    "    \"\"\"Reference: http://imageio.readthedocs.io/en/latest/examples.html#convert-a-movie\"\"\"\n",
    "    outputpath = os.path.splitext(inputpath)[0] + targetFormat\n",
    "    print(\"converting\\r\\n\\t{0}\\r\\nto\\r\\n\\t{1}\".format(inputpath, outputpath))\n",
    "\n",
    "    reader = imageio.get_reader(inputpath)\n",
    "    #fps = reader.get_meta_data()['fps']\n",
    "    fps=7\n",
    "\n",
    "    writer = imageio.get_writer(outputpath, fps=fps)\n",
    "    for i,im in enumerate(reader):\n",
    "        sys.stdout.write(\"\\rframe {0}\".format(i))\n",
    "        sys.stdout.flush()\n",
    "        writer.append_data(im)\n",
    "    #print(\"\\r\\nFinalizing...\")\n",
    "    writer.close()\n",
    "    #print(\"Done.\")\n",
    "\n",
    "convertFile(\"otwarty_tor.gif\", TargetFormat.MP4)"
   ]
  },
  {
   "cell_type": "code",
   "execution_count": 9,
   "id": "c4478d11",
   "metadata": {},
   "outputs": [],
   "source": [
    "\n",
    "#for filename in set(names):\n",
    " #    os.remove(filename)"
   ]
  },
  {
   "cell_type": "markdown",
   "id": "c45d9862",
   "metadata": {},
   "source": [
    "![mygif_gif](mygif.gif)"
   ]
  },
  {
   "cell_type": "code",
   "execution_count": null,
   "id": "aa9f4587",
   "metadata": {},
   "outputs": [],
   "source": []
  }
 ],
 "metadata": {
  "kernelspec": {
   "display_name": "Python 3.10.4 64-bit",
   "language": "python",
   "name": "python3"
  },
  "language_info": {
   "codemirror_mode": {
    "name": "ipython",
    "version": 3
   },
   "file_extension": ".py",
   "mimetype": "text/x-python",
   "name": "python",
   "nbconvert_exporter": "python",
   "pygments_lexer": "ipython3",
   "version": "3.10.4"
  },
  "vscode": {
   "interpreter": {
    "hash": "aee8b7b246df8f9039afb4144a1f6fd8d2ca17a180786b69acc140d282b71a49"
   }
  }
 },
 "nbformat": 4,
 "nbformat_minor": 5
}
