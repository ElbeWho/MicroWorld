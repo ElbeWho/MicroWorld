{
 "cells": [
  {
   "cell_type": "code",
   "execution_count": 16,
   "id": "aac8a3b5",
   "metadata": {},
   "outputs": [],
   "source": [
    "#trying to do it for the n number of forces"
   ]
  },
  {
   "cell_type": "code",
   "execution_count": 17,
   "id": "186df2b3",
   "metadata": {},
   "outputs": [],
   "source": [
    "import numpy as np\n",
    "import seaborn as sns\n",
    "import matplotlib.pyplot as plt\n",
    "from scipy import interpolate\n",
    "from scipy.integrate import ode\n",
    "import matplotlib.colors as colors \n",
    "import matplotlib.cbook as cbook\n",
    "from matplotlib import cm\n",
    "import imageio\n",
    "from sympy import S \n",
    "from sympy import sympify\n",
    "from mpl_toolkits import axes_grid1\n"
   ]
  },
  {
   "cell_type": "code",
   "execution_count": 18,
   "id": "f1501831",
   "metadata": {},
   "outputs": [],
   "source": [
    "def stokeslet(f,r0,mX,mY):\n",
    "    Id=np.array([[1,0],[0,1]])\n",
    "    r=np.array([mX-r0[0],mY-r0[1]])\n",
    "\n",
    "    Idf=np.dot(Id,f) \n",
    "    \n",
    "    rTf=(r*f[:,np.newaxis,np.newaxis]).sum(axis=0)\n",
    "    rrTf=(r*rTf[np.newaxis,])\n",
    "    modr=(r[0]**2+r[1]**2)**.5\n",
    "    \n",
    "    u,v=Idf[:,np.newaxis,np.newaxis]/modr[np.newaxis]+rrTf/modr**3.\n",
    "    return [u,v]\n",
    "\n",
    "def B_dir(t,p,fx,fz):\n",
    "    ex = fx(p[0],p[1])\n",
    "    ez = fz(p[0],p[1])\n",
    "    n = (ex**2.0+ez**2.0)**0.5\n",
    "    return [ex/n, ez/n]\n",
    "\n",
    "def add_colorbar(im, aspect=20, pad_fraction=0.5, **kwargs):\n",
    "    \"\"\"Add a vertical color bar to an image plot.\"\"\"\n",
    "    divider = axes_grid1.make_axes_locatable(im.axes)\n",
    "    width = axes_grid1.axes_size.AxesY(im.axes, aspect=1./aspect)\n",
    "    pad = axes_grid1.axes_size.Fraction(pad_fraction, width)\n",
    "    current_ax = plt.gca()\n",
    "    cax = divider.append_axes(\"right\", size=width, pad=pad)\n",
    "    plt.sca(current_ax)\n",
    "    return im.axes.figure.colorbar(im, cax=cax, **kwargs)"
   ]
  },
  {
   "cell_type": "code",
   "execution_count": 19,
   "id": "2e5c50fe",
   "metadata": {},
   "outputs": [],
   "source": [
    "a=5\n",
    "b= 100\n",
    "xx = np.linspace(-a, a, b)\n",
    "yy = np.linspace(-a, a, b)\n",
    "mX, mY = np.meshgrid(xx,yy)"
   ]
  },
  {
   "cell_type": "code",
   "execution_count": 20,
   "id": "de656699",
   "metadata": {},
   "outputs": [],
   "source": [
    "import sympy\n",
    "\n",
    "def solve_equation(equation_string):\n",
    "    # Create a symbolic variable\n",
    "    x = sympy.Symbol('x')\n",
    "\n",
    "    try:\n",
    "        # Parse the equation string and simplify it\n",
    "        equation = sympy.sympify(equation_string)\n",
    "        \n",
    "        # Solve the equation\n",
    "        solutions = sympy.solve(equation, x)\n",
    "\n",
    "        return solutions\n",
    "    \n",
    "    except sympy.SympifyError:\n",
    "        print(\"Invalid equation!\")\n",
    "        return []"
   ]
  },
  {
   "cell_type": "code",
   "execution_count": 21,
   "id": "d20651fc",
   "metadata": {},
   "outputs": [
    {
     "name": "stdout",
     "output_type": "stream",
     "text": [
      "Invalid equation!\n",
      "No solutions found.\n"
     ]
    }
   ],
   "source": [
    "\n",
    "equation = input(\"Enter an equation: \")\n",
    "\n",
    "solutions = solve_equation(equation)\n",
    "\n",
    "if solutions:\n",
    "    print(\"Solutions:\")\n",
    "    for solution in solutions:\n",
    "        print(solution)\n",
    "else:\n",
    "    print(\"No solutions found.\")\n"
   ]
  },
  {
   "cell_type": "code",
   "execution_count": 11,
   "id": "3b017902",
   "metadata": {},
   "outputs": [
    {
     "data": {
      "text/latex": [
       "$\\displaystyle 2.0$"
      ],
      "text/plain": [
       "2.00000000000000"
      ]
     },
     "execution_count": 11,
     "metadata": {},
     "output_type": "execute_result"
    }
   ],
   "source": [
    "from sympy import sympify\n",
    "expr = sympify(\"1+1\")\n",
    "expr.evalf()\n",
    "\n",
    "'''\n",
    "```\n",
    "env = {}\n",
    "env[\"locals\"]   = None\n",
    "env[\"globals\"]  = None\n",
    "env[\"__name__\"] = None\n",
    "env[\"__file__\"] = None\n",
    "env[\"__builtins__\"] = None\n",
    "\n",
    "eval(users_str, env)\n",
    "```'''"
   ]
  },
  {
   "cell_type": "code",
   "execution_count": 28,
   "id": "ec7dc304",
   "metadata": {},
   "outputs": [],
   "source": [
    "#tutaj lepiej sympy!!!\n",
    "#eval jest niebezpieczne\n",
    "\n",
    "#check dipole\n",
    "#0 .5 0 -1\n",
    "#0 -.5 0 1\n",
    "\n",
    "\n",
    "flag = True\n",
    "elements = []\n",
    "number=0\n",
    "while flag == True:\n",
    "    R = input(\"Enter the entries in a single line (separated by space). First goes x then y for the r force \\\n",
    "                then x and y for the ratio position. \\\n",
    "              If you need any specific operation use python language eg. square root of 2 is np.sqrt(2). \\\n",
    "              To finish type \\\"end\\\".\") \n",
    "    if R == 'end':\n",
    "        break\n",
    "    number += 1 \n",
    "    R = list(map(eval, (R.split())))\n",
    "    \n",
    "    elements.append(R)"
   ]
  },
  {
   "cell_type": "code",
   "execution_count": null,
   "id": "34573eaf",
   "metadata": {},
   "outputs": [],
   "source": [
    "'''expr = sympify(R)\n",
    "\n",
    "    if R == 'end':\n",
    "        break\n",
    "    number += 1 \n",
    "\n",
    "    R = list(map(expr.evalf(), (R.split())))\n",
    "    \n",
    "    #elements.append(R)'''"
   ]
  },
  {
   "cell_type": "code",
   "execution_count": 29,
   "id": "a2b41262",
   "metadata": {},
   "outputs": [
    {
     "name": "stdout",
     "output_type": "stream",
     "text": [
      "[[0, 0.5, 0, 1], [0, -0.5, 0, 1]]\n",
      "2\n"
     ]
    }
   ],
   "source": [
    "print(elements)\n",
    "print(number)"
   ]
  },
  {
   "cell_type": "code",
   "execution_count": 24,
   "id": "0ef1dfec",
   "metadata": {},
   "outputs": [
    {
     "data": {
      "text/plain": [
       "'Mam listę pozycji przyłoenia siły. Potrzebuje mieć jakąś n ilość wartości stokslet od tych sił. '"
      ]
     },
     "execution_count": 24,
     "metadata": {},
     "output_type": "execute_result"
    }
   ],
   "source": [
    "'''Mam listę pozycji przyłoenia siły. Potrzebuje mieć jakąś n ilość wartości stokslet od tych sił. '''"
   ]
  },
  {
   "cell_type": "code",
   "execution_count": 30,
   "id": "37a6c86a",
   "metadata": {},
   "outputs": [
    {
     "name": "stdout",
     "output_type": "stream",
     "text": [
      "[[ 0.   0.5  0.   1. ]\n",
      " [ 0.  -0.5  0.   1. ]]\n"
     ]
    }
   ],
   "source": [
    "R=0.001\n",
    "dt=0.8*R\n",
    "\n",
    "f=np.array([0,1])                         # r is position of the force red arrow - touchdown point\n",
    "\n",
    "x0, x1= -0.99*a, 0.99*a\n",
    "y0, y1= -0.99*a, 0.99*a\n",
    "\n",
    "many_ratios = np.vstack(elements)\n",
    "print(many_ratios)"
   ]
  },
  {
   "cell_type": "code",
   "execution_count": 39,
   "id": "4fd0894b",
   "metadata": {},
   "outputs": [
    {
     "name": "stdout",
     "output_type": "stream",
     "text": [
      "[[0. 0. 0. ... 0. 0. 0.]\n",
      " [0. 0. 0. ... 0. 0. 0.]\n",
      " [0. 0. 0. ... 0. 0. 0.]\n",
      " ...\n",
      " [0. 0. 0. ... 0. 0. 0.]\n",
      " [0. 0. 0. ... 0. 0. 0.]\n",
      " [0. 0. 0. ... 0. 0. 0.]]\n"
     ]
    },
    {
     "data": {
      "text/plain": [
       "<matplotlib.streamplot.StreamplotSet at 0x7f99e1863190>"
      ]
     },
     "execution_count": 39,
     "metadata": {},
     "output_type": "execute_result"
    },
    {
     "data": {
      "image/png": "[encoded data removed]",
      "text/plain": [
       "<Figure size 600x600 with 1 Axes>"
      ]
     },
     "metadata": {},
     "output_type": "display_data"
    }
   ],
   "source": [
    "#tutaj pola od promieni  - pętelka\n",
    "\n",
    "fig=plt.figure(figsize=(6,6),facecolor=\"w\")\n",
    "ax = plt.axes()\n",
    "u=0\n",
    "v=0\n",
    "szyszka = 0\n",
    "\n",
    "for j in many_ratios:\n",
    "    szyszka += 1\n",
    "    u1,v1=stokeslet(np.array([j[0], j[1]]),np.array([j[2], j[3]]),mX,mY)\n",
    "    #print(u1)\n",
    "    u+=u1\n",
    "    #print(u)\n",
    "    v+=v1\n",
    "    \n",
    "print(u)\n",
    "Z = np.sqrt(v**2+u**2)\n",
    "#print(v)\n",
    "#print(Z)\n",
    "\n",
    "image = ax.pcolormesh(mX, mY, Z,\n",
    "                norm=colors.LogNorm(vmin= 10**(-4), vmax=10**4),    \n",
    "                #norm=colors.LogNorm(vmin=Z.min(), vmax=Z.max()), \n",
    "                      snap=True,\n",
    "               cmap=plt.cm.inferno, rasterized=True, \n",
    "               shading='gouraud', zorder=0)\n",
    "plt.streamplot(mX, mY, u, v, \n",
    "               #broken_streamlines=False\n",
    "               )\n",
    "\n",
    "#add_colorbar(image)\n"
   ]
  },
  {
   "cell_type": "code",
   "execution_count": null,
   "id": "7fd9162f",
   "metadata": {},
   "outputs": [],
   "source": []
  }
 ],
 "metadata": {
  "kernelspec": {
   "display_name": "base",
   "language": "python",
   "name": "python3"
  },
  "language_info": {
   "codemirror_mode": {
    "name": "ipython",
    "version": 3
   },
   "file_extension": ".py",
   "mimetype": "text/x-python",
   "name": "python",
   "nbconvert_exporter": "python",
   "pygments_lexer": "ipython3",
   "version": "3.9.13"
  },
  "vscode": {
   "interpreter": {
    "hash": "ce4f035e3c361cfc95abe5c94232dec48307c9606981b0f9b20aa72f9144c95a"
   }
  }
 },
 "nbformat": 4,
 "nbformat_minor": 5
}
