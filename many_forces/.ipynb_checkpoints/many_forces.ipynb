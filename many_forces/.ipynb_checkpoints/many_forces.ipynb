{
 "cells": [
  {
   "cell_type": "code",
   "execution_count": 1,
   "id": "aac8a3b5",
   "metadata": {},
   "outputs": [],
   "source": [
    "#wymagania do ciągłych streamplots: Python 3.10.9\n"
   ]
  },
  {
   "attachments": {},
   "cell_type": "markdown",
   "id": "5adb3216",
   "metadata": {},
   "source": []
  },
  {
   "cell_type": "code",
   "execution_count": 1,
   "id": "186df2b3",
   "metadata": {},
   "outputs": [],
   "source": [
    "import numpy as np\n",
    "import ast\n",
    "import seaborn as sns\n",
    "\n",
    "import matplotlib.pyplot as plt\n",
    "import matplotlib.colors as colors \n",
    "import matplotlib.cbook as cbook\n",
    "\n",
    "from matplotlib import cm\n",
    "import sympy\n",
    "\n",
    "from mpl_toolkits import axes_grid1\n",
    "\n",
    "\n"
   ]
  },
  {
   "cell_type": "code",
   "execution_count": 2,
   "id": "f1501831",
   "metadata": {},
   "outputs": [],
   "source": [
    "def stokeslet(f,r0,mX,mY):\n",
    "    Id=np.array([[1,0],[0,1]])\n",
    "    r=np.array([mX-r0[0],mY-r0[1]])\n",
    "\n",
    "    Idf=np.dot(Id,f) \n",
    "    \n",
    "    rTf=(r*f[:,np.newaxis,np.newaxis]).sum(axis=0)\n",
    "    rrTf=(r*rTf[np.newaxis,])\n",
    "    modr=(r[0]**2+r[1]**2)**.5\n",
    "    \n",
    "    u,v=Idf[:,np.newaxis,np.newaxis]/modr[np.newaxis]+rrTf/modr**3.\n",
    "    return [u,v]\n",
    "\n",
    "def B_dir(t,p,fx,fz):\n",
    "    ex = fx(p[0],p[1])\n",
    "    ez = fz(p[0],p[1])\n",
    "    n = (ex**2.0+ez**2.0)**0.5\n",
    "    return [ex/n, ez/n]\n",
    "\n",
    "def add_colorbar(im, aspect=20, pad_fraction=0.5, **kwargs):\n",
    "    \"\"\"Add a vertical color bar to an image plot.\"\"\"\n",
    "    divider = axes_grid1.make_axes_locatable(im.axes)\n",
    "    width = axes_grid1.axes_size.AxesY(im.axes, aspect=1./aspect)\n",
    "    pad = axes_grid1.axes_size.Fraction(pad_fraction, width)\n",
    "    current_ax = plt.gca()\n",
    "    cax = divider.append_axes(\"right\", size=width, pad=pad)\n",
    "    plt.sca(current_ax)\n",
    "    return im.axes.figure.colorbar(im, cax=cax, **kwargs)"
   ]
  },
  {
   "cell_type": "code",
   "execution_count": 7,
   "id": "2e5c50fe",
   "metadata": {},
   "outputs": [],
   "source": [
    "a=5\n",
    "b= 100\n",
    "xx = np.linspace(-a, a, b)\n",
    "yy = np.linspace(-a, a, b)\n",
    "mX, mY = np.meshgrid(xx,yy)"
   ]
  },
  {
   "cell_type": "code",
   "execution_count": 8,
   "id": "ec7dc304",
   "metadata": {},
   "outputs": [],
   "source": [
    "\n",
    "\n",
    "flag = True\n",
    "elements = []\n",
    "\n",
    "number=0\n",
    "while flag == True:\n",
    "    R = input(\"Enter the entries in a single line (separated by space). First goes x then y for the direction  \\\n",
    "                then x and y for the force position. \\\n",
    "              If you need any specific operation use shoortcuts to evaluate eg. pi, sqrt(). \\\n",
    "              To finish type \\\"end\\\".\") \n",
    "    if R == 'end':\n",
    "        \n",
    "        break\n",
    "\n",
    "    number += 1 \n",
    "    \n",
    "    elements.append(R.split())\n",
    "    for i in elements:\n",
    "        number = 0 \n",
    "        for expression in i:\n",
    "            ready = sympy.sympify(expression)\n",
    "            result = ast.literal_eval(str(ready.evalf()))\n",
    "            i[number] = result\n",
    "            number += 1\n",
    "\n"
   ]
  },
  {
   "cell_type": "code",
   "execution_count": 9,
   "id": "37a6c86a",
   "metadata": {},
   "outputs": [],
   "source": [
    "R=0.001\n",
    "dt=0.8*R\n",
    "\n",
    "f=np.array([0,1])                         \n",
    "\n",
    "x0, x1= -0.99*a, 0.99*a\n",
    "y0, y1= -0.99*a, 0.99*a\n",
    "\n",
    "many_ratios = np.vstack(elements)\n"
   ]
  },
  {
   "cell_type": "code",
   "execution_count": 10,
   "id": "4fd0894b",
   "metadata": {},
   "outputs": [
    {
     "ename": "IndexError",
     "evalue": "index 2 is out of bounds for axis 0 with size 2",
     "output_type": "error",
     "traceback": [
      "\u001b[0;31m---------------------------------------------------------------------------\u001b[0m",
      "\u001b[0;31mIndexError\u001b[0m                                Traceback (most recent call last)",
      "\u001b[1;32m/Users/gabrielaniechwiadowicz/Documents/GitHub/MicroWorld/many_forces/.ipynb_checkpoints/many_forces.ipynb Cell 8\u001b[0m line \u001b[0;36m1\n\u001b[1;32m      <a href='vscode-notebook-cell:/Users/gabrielaniechwiadowicz/Documents/GitHub/MicroWorld/many_forces/.ipynb_checkpoints/many_forces.ipynb#X10sZmlsZQ%3D%3D?line=8'>9</a>\u001b[0m \u001b[39mfor\u001b[39;00m j \u001b[39min\u001b[39;00m many_ratios:\n\u001b[1;32m     <a href='vscode-notebook-cell:/Users/gabrielaniechwiadowicz/Documents/GitHub/MicroWorld/many_forces/.ipynb_checkpoints/many_forces.ipynb#X10sZmlsZQ%3D%3D?line=9'>10</a>\u001b[0m     szyszka \u001b[39m+\u001b[39m\u001b[39m=\u001b[39m \u001b[39m1\u001b[39m\n\u001b[0;32m---> <a href='vscode-notebook-cell:/Users/gabrielaniechwiadowicz/Documents/GitHub/MicroWorld/many_forces/.ipynb_checkpoints/many_forces.ipynb#X10sZmlsZQ%3D%3D?line=10'>11</a>\u001b[0m     u1,v1\u001b[39m=\u001b[39mstokeslet(np\u001b[39m.\u001b[39marray([j[\u001b[39m0\u001b[39m], j[\u001b[39m1\u001b[39m]]),np\u001b[39m.\u001b[39marray([j[\u001b[39m2\u001b[39;49m], j[\u001b[39m3\u001b[39m]]),mX,mY)\n\u001b[1;32m     <a href='vscode-notebook-cell:/Users/gabrielaniechwiadowicz/Documents/GitHub/MicroWorld/many_forces/.ipynb_checkpoints/many_forces.ipynb#X10sZmlsZQ%3D%3D?line=11'>12</a>\u001b[0m     u\u001b[39m+\u001b[39m\u001b[39m=\u001b[39mu1\n\u001b[1;32m     <a href='vscode-notebook-cell:/Users/gabrielaniechwiadowicz/Documents/GitHub/MicroWorld/many_forces/.ipynb_checkpoints/many_forces.ipynb#X10sZmlsZQ%3D%3D?line=12'>13</a>\u001b[0m     v\u001b[39m+\u001b[39m\u001b[39m=\u001b[39mv1\n",
      "\u001b[0;31mIndexError\u001b[0m: index 2 is out of bounds for axis 0 with size 2"
     ]
    },
    {
     "data": {
      "image/png": "[encoded data removed]",
      "text/plain": [
       "<Figure size 600x600 with 1 Axes>"
      ]
     },
     "metadata": {},
     "output_type": "display_data"
    }
   ],
   "source": [
    "#tutaj pola od promieni  - pętelka\n",
    "\n",
    "fig=plt.figure(figsize=(6,6),facecolor=\"w\")\n",
    "ax = plt.axes()\n",
    "u=0\n",
    "v=0\n",
    "szyszka = 0 \n",
    "\n",
    "for j in many_ratios:\n",
    "    szyszka += 1\n",
    "    u1,v1=stokeslet(np.array([j[0], j[1]]),np.array([j[2], j[3]]),mX,mY)\n",
    "    u+=u1\n",
    "    v+=v1\n",
    "    \n",
    "\n",
    "Z = np.sqrt(v**2+u**2)\n",
    "print(Z)\n",
    "\n",
    "image = ax.pcolormesh(mX, mY, Z,\n",
    "                norm=colors.LogNorm(vmin= 10**(-4), vmax=10**4),    \n",
    "                      snap=True,\n",
    "               cmap=plt.cm.inferno, rasterized=True, \n",
    "               shading='gouraud', zorder=0)\n",
    "\n",
    "plt.streamplot(mX, mY, u, v, \n",
    "               broken_streamlines=False, density=.5, color='k')\n",
    "\n",
    "add_colorbar(image)\n"
   ]
  },
  {
   "cell_type": "code",
   "execution_count": null,
   "id": "7fd9162f",
   "metadata": {},
   "outputs": [],
   "source": []
  }
 ],
 "metadata": {
  "kernelspec": {
   "display_name": "base",
   "language": "python",
   "name": "python3"
  },
  "language_info": {
   "codemirror_mode": {
    "name": "ipython",
    "version": 3
   },
   "file_extension": ".py",
   "mimetype": "text/x-python",
   "name": "python",
   "nbconvert_exporter": "python",
   "pygments_lexer": "ipython3",
   "version": "3.10.9"
  },
  "vscode": {
   "interpreter": {
    "hash": "ce4f035e3c361cfc95abe5c94232dec48307c9606981b0f9b20aa72f9144c95a"
   }
  }
 },
 "nbformat": 4,
 "nbformat_minor": 5
}
